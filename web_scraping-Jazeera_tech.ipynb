{
 "cells": [
  {
   "cell_type": "code",
   "execution_count": 1,
   "id": "044049d7",
   "metadata": {},
   "outputs": [],
   "source": [
    "from selenium import webdriver\n",
    "from selenium.webdriver.common.by import By\n",
    "from selenium.webdriver.chrome.service import Service\n",
    "from selenium.webdriver.support.ui import WebDriverWait\n",
    "from selenium.webdriver.support import expected_conditions as EC\n",
    "from bs4 import BeautifulSoup\n",
    "import time\n",
    "import pandas as pd\n",
    "import logging"
   ]
  },
  {
   "cell_type": "code",
   "execution_count": null,
   "id": "ce8d5fa6",
   "metadata": {},
   "outputs": [],
   "source": [
    "# Path to your WebDriver (update this path as needed)\n",
    "service = Service('C:\\drivers\\chromedriver-win64\\chromedriver.exe')"
   ]
  },
  {
   "cell_type": "code",
   "execution_count": null,
   "id": "03e886d1",
   "metadata": {},
   "outputs": [],
   "source": [
    "# Initialize the WebDriver\n",
    "driver = webdriver.Chrome(service=service)"
   ]
  },
  {
   "cell_type": "code",
   "execution_count": null,
   "id": "4a84d895",
   "metadata": {},
   "outputs": [],
   "source": [
    "# URL of the website to scrape\n",
    "url = 'https://www.aljazeera.net/tech/'"
   ]
  },
  {
   "cell_type": "code",
   "execution_count": null,
   "id": "40658645",
   "metadata": {},
   "outputs": [],
   "source": [
    "# Open the website\n",
    "driver.get(url)"
   ]
  },
  {
   "cell_type": "code",
   "execution_count": null,
   "id": "0193dff9",
   "metadata": {},
   "outputs": [],
   "source": [
    "# Wait for the dynamic content to load\n",
    "time.sleep(5)  # Adjust the sleep time as needed"
   ]
  },
  {
   "cell_type": "code",
   "execution_count": null,
   "id": "fdd32c4b",
   "metadata": {},
   "outputs": [],
   "source": [
    "# Click the \"Show More\" button multiple times if needed\n",
    "#try:\n",
    "    while True:\n",
    "        show_more_button = WebDriverWait(driver, 10).until(\n",
    "            EC.element_to_be_clickable((By.XPATH, '//button[@class=\"show-more-button big-margin\"]/span[text()=\"اعرض المزيد\"]'))\n",
    "        )\n",
    "        show_more_button.click()\n",
    "        time.sleep()  # Adjust the sleep time as needed\n",
    "except:\n",
    "    print(\"No more 'Show More' buttons or an error occurred\")"
   ]
  },
  {
   "cell_type": "code",
   "execution_count": null,
   "id": "9121d019",
   "metadata": {},
   "outputs": [],
   "source": [
    "# Click the \"Show More\" button multiple times if needed\n",
    "click_count = 0\n",
    "max_retries = 3\n",
    "retries = 0\n",
    "\n",
    "#try:\n",
    "    while True:\n",
    "        try:\n",
    "            show_more_button = WebDriverWait(driver, 10).until(\n",
    "                EC.element_to_be_clickable((By.XPATH, '//button[@class=\"show-more-button big-margin\"]/span[text()=\"اعرض المزيد\"]'))\n",
    "            )\n",
    "            show_more_button.click()\n",
    "            click_count += 1\n",
    "            retries = 0  # Reset retries after a successful click\n",
    "            logging.info(f\"'Show More' button clicked {click_count} times\")\n",
    "            time.sleep(2)  # Adjust the sleep time as needed\n",
    "        except Exception as e:\n",
    "            logging.warning(f\"Failed to click 'Show More' button: {e}\")\n",
    "            retries += 1\n",
    "            if retries >= max_retries:\n",
    "                logging.error(\"Maximum retries reached, stopping.\")\n",
    "                break\n",
    "            time.sleep(2)  # Wait before retrying\n",
    "except Exception as e:\n",
    "    logging.error(f\"An unexpected error occurred: {e}\")"
   ]
  },
  {
   "cell_type": "code",
   "execution_count": null,
   "id": "5e78e58f",
   "metadata": {},
   "outputs": [],
   "source": [
    "# Click the \"Show More\" button multiple times if needed\n",
    "click_count = 0\n",
    "max_clicks = 200  # Set the maximum number of clicks\n",
    "max_retries = 3\n",
    "retries = 0\n",
    "\n",
    "try:\n",
    "    while click_count < max_clicks:\n",
    "        try:\n",
    "            show_more_button = WebDriverWait(driver, 10).until(\n",
    "                EC.element_to_be_clickable((By.XPATH, '//button[@class=\"show-more-button big-margin\"]/span[text()=\"اعرض المزيد\"]'))\n",
    "            )\n",
    "            show_more_button.click()\n",
    "            click_count += 1\n",
    "            retries = 0  # Reset retries after a successful click\n",
    "            logging.info(f\"'Show More' button clicked {click_count} times\")\n",
    "            time.sleep(2)  # Adjust the sleep time as needed\n",
    "        except Exception as e:\n",
    "            logging.warning(f\"Failed to click 'Show More' button: {e}\")\n",
    "            retries += 1\n",
    "            if retries >= max_retries:\n",
    "                logging.error(\"Maximum retries reached, stopping.\")\n",
    "                break\n",
    "            time.sleep(2)  # Wait before retrying\n",
    "except Exception as e:\n",
    "    logging.error(f\"An unexpected error occurred: {e}\")"
   ]
  },
  {
   "cell_type": "code",
   "execution_count": null,
   "id": "e6d44685",
   "metadata": {},
   "outputs": [],
   "source": [
    "# Extract the page source and parse it with BeautifulSoup\n",
    "page_source = driver.page_source\n",
    "soup = BeautifulSoup(page_source, 'html.parser')"
   ]
  },
  {
   "cell_type": "code",
   "execution_count": null,
   "id": "a189c07a",
   "metadata": {},
   "outputs": [],
   "source": [
    "soup"
   ]
  },
  {
   "cell_type": "code",
   "execution_count": null,
   "id": "137e55f0",
   "metadata": {},
   "outputs": [],
   "source": [
    "#create a container for the neded data\n",
    "containers = soup.find_all(\"article\", {\"class\":\"gc u-clickable-card gc--type-post gc--list gc--with-image\"})"
   ]
  },
  {
   "cell_type": "code",
   "execution_count": null,
   "id": "0776a0c5",
   "metadata": {},
   "outputs": [],
   "source": [
    "len(containers)"
   ]
  },
  {
   "cell_type": "code",
   "execution_count": null,
   "id": "9fa7141f",
   "metadata": {},
   "outputs": [],
   "source": [
    "###############################################################################\n",
    "containers[119]"
   ]
  },
  {
   "cell_type": "code",
   "execution_count": null,
   "id": "8026afbd",
   "metadata": {},
   "outputs": [],
   "source": [
    "BeautifulSoup.prettify(containers[119])"
   ]
  },
  {
   "cell_type": "code",
   "execution_count": null,
   "id": "36f1349a",
   "metadata": {},
   "outputs": [],
   "source": [
    "new_text=containers[0].find_all(\"p\")"
   ]
  },
  {
   "cell_type": "code",
   "execution_count": null,
   "id": "1dc0b110",
   "metadata": {},
   "outputs": [],
   "source": [
    "new_text[0].text"
   ]
  },
  {
   "cell_type": "code",
   "execution_count": null,
   "id": "d2263740",
   "metadata": {},
   "outputs": [],
   "source": [
    "new_title = containers[0].find_all(\"h3\")"
   ]
  },
  {
   "cell_type": "code",
   "execution_count": null,
   "id": "c24109a8",
   "metadata": {},
   "outputs": [],
   "source": [
    "new_title[0].text"
   ]
  },
  {
   "cell_type": "code",
   "execution_count": null,
   "id": "ff3660cc",
   "metadata": {},
   "outputs": [],
   "source": [
    "new_publication_date = containers[1].find_all(\"span\",{\"aria-hidden\":\"true\"})[0].text"
   ]
  },
  {
   "cell_type": "code",
   "execution_count": null,
   "id": "f5d758cd",
   "metadata": {},
   "outputs": [],
   "source": [
    "new_publication_date"
   ]
  },
  {
   "cell_type": "code",
   "execution_count": null,
   "id": "c8b8e6a3",
   "metadata": {},
   "outputs": [],
   "source": [
    "###################################################################\n",
    "f = open(\"data2.tsv\",\"w\" , encoding='utf-8')\n",
    "header = \"title\\ttext\\tpublication_date\\n\"\n",
    "f.write(header)"
   ]
  },
  {
   "cell_type": "code",
   "execution_count": null,
   "id": "6e7e6a49",
   "metadata": {},
   "outputs": [],
   "source": [
    "for container in containers:\n",
    "    new_title1 = container.find_all(\"h3\")\n",
    "    new_text1=container.find_all(\"p\")\n",
    "    new_publication_date1 = container.find_all(\"span\",{\"aria-hidden\":\"true\"})[0].text.strip()\n",
    "    if new_title1 and new_text1 and new_publication_date1:\n",
    "        n_title1 = new_title1[0].text.strip()        \n",
    "        n_text1 = new_text1[0].text.strip()\n",
    "        f.write(n_title1 + \"\\t\" + n_text1 + \"\\t\" + new_publication_date1 + \"\\n\" )\n",
    "    \n",
    "    #print(new1_text)\n",
    "    #print()\n",
    "f.close()"
   ]
  },
  {
   "cell_type": "code",
   "execution_count": null,
   "id": "8c478f76",
   "metadata": {},
   "outputs": [],
   "source": [
    "# Close the WebDriver\n",
    "driver.quit()"
   ]
  },
  {
   "cell_type": "code",
   "execution_count": 3,
   "id": "5c593c08",
   "metadata": {},
   "outputs": [],
   "source": [
    "data=pd.read_csv(\"Jazzera-tech_data.tsv\", sep=\"\\t\")"
   ]
  },
  {
   "cell_type": "code",
   "execution_count": 4,
   "id": "cfc700d1",
   "metadata": {},
   "outputs": [
    {
     "data": {
      "text/html": [
       "<div>\n",
       "<style scoped>\n",
       "    .dataframe tbody tr th:only-of-type {\n",
       "        vertical-align: middle;\n",
       "    }\n",
       "\n",
       "    .dataframe tbody tr th {\n",
       "        vertical-align: top;\n",
       "    }\n",
       "\n",
       "    .dataframe thead th {\n",
       "        text-align: right;\n",
       "    }\n",
       "</style>\n",
       "<table border=\"1\" class=\"dataframe\">\n",
       "  <thead>\n",
       "    <tr style=\"text-align: right;\">\n",
       "      <th></th>\n",
       "      <th>title</th>\n",
       "      <th>text</th>\n",
       "      <th>publication_date</th>\n",
       "    </tr>\n",
       "  </thead>\n",
       "  <tbody>\n",
       "    <tr>\n",
       "      <th>0</th>\n",
       "      <td>بالتزامن مع إطلاقها اليوم.. مراجعة لعبة \"هيل ب...</td>\n",
       "      <td>تأتي المراجعة الأولى للعبة “هيل بليد” سينوا سا...</td>\n",
       "      <td>21/5/2024</td>\n",
       "    </tr>\n",
       "    <tr>\n",
       "      <th>1</th>\n",
       "      <td>كيف يمكن أن تخسر أموالك بمجرد مسح رمز استجابة ...</td>\n",
       "      <td>أكواد الاستجابة السريعة والمعروفة باسم “كيو آر...</td>\n",
       "      <td>20/5/2024</td>\n",
       "    </tr>\n",
       "    <tr>\n",
       "      <th>2</th>\n",
       "      <td>هل يغير الفيديو التوليدي باستخدام الذكاء الاصط...</td>\n",
       "      <td>بدأ إدخال تقنيات المعالجة الرقمية ضمن الأفلام ...</td>\n",
       "      <td>20/5/2024</td>\n",
       "    </tr>\n",
       "    <tr>\n",
       "      <th>3</th>\n",
       "      <td>آبل وغوغل تمنعان إساءة استعمال أجهزة التتبع ال...</td>\n",
       "      <td>أعلنت شركة آبل عن تطوير معيار مشترك بالتعاون م...</td>\n",
       "      <td>20/5/2024</td>\n",
       "    </tr>\n",
       "    <tr>\n",
       "      <th>4</th>\n",
       "      <td>شاشات لمس إلكترونية مضادة للميكروبات.. حلول واعدة</td>\n",
       "      <td>فى دراسة حديثة نشرت في مجلة “نيتشر”، صمم فريق ...</td>\n",
       "      <td>20/5/2024</td>\n",
       "    </tr>\n",
       "    <tr>\n",
       "      <th>...</th>\n",
       "      <td>...</td>\n",
       "      <td>...</td>\n",
       "      <td>...</td>\n",
       "    </tr>\n",
       "    <tr>\n",
       "      <th>1951</th>\n",
       "      <td>لن تحتاج إلى مترجم عند السفر.. شاهد سماعات أذن...</td>\n",
       "      <td>تعدّ اللغة حاجز التواصل الرئيسي لدى المسافرين ...</td>\n",
       "      <td>17/11/2021</td>\n",
       "    </tr>\n",
       "    <tr>\n",
       "      <th>1952</th>\n",
       "      <td>هل يمكن أن تكتسب الروبوتات مهارات اجتماعية تسا...</td>\n",
       "      <td>حكم الروبوتات بات على الأبواب، وهي قادمة لا مح...</td>\n",
       "      <td>17/11/2021</td>\n",
       "    </tr>\n",
       "    <tr>\n",
       "      <th>1953</th>\n",
       "      <td>بخطوات بسيطة.. كيف تجعل متصفح فايرفوكس يحافظ ع...</td>\n",
       "      <td>فايرفوكس يعتبر أحد أكثر المتصفحات شهرة، وتكمن ...</td>\n",
       "      <td>16/11/2021</td>\n",
       "    </tr>\n",
       "    <tr>\n",
       "      <th>1954</th>\n",
       "      <td>بالفيديو.. طالب ماجستير يعدل هاتف آيفون ويبيعه...</td>\n",
       "      <td>استطاع طالب الماجستير في الهندسة الإلكترونية ك...</td>\n",
       "      <td>16/11/2021</td>\n",
       "    </tr>\n",
       "    <tr>\n",
       "      <th>1955</th>\n",
       "      <td>أفضلها اختبار المجموعة.. 5 طرق لمعرفة إذا تم ح...</td>\n",
       "      <td>يربط تطبيق المحادثة الأكثر شهرة حول العالم وات...</td>\n",
       "      <td>15/11/2021</td>\n",
       "    </tr>\n",
       "  </tbody>\n",
       "</table>\n",
       "<p>1956 rows × 3 columns</p>\n",
       "</div>"
      ],
      "text/plain": [
       "                                                  title  \\\n",
       "0     بالتزامن مع إطلاقها اليوم.. مراجعة لعبة \"هيل ب...   \n",
       "1     كيف يمكن أن تخسر أموالك بمجرد مسح رمز استجابة ...   \n",
       "2     هل يغير الفيديو التوليدي باستخدام الذكاء الاصط...   \n",
       "3     آبل وغوغل تمنعان إساءة استعمال أجهزة التتبع ال...   \n",
       "4     شاشات لمس إلكترونية مضادة للميكروبات.. حلول واعدة   \n",
       "...                                                 ...   \n",
       "1951  لن تحتاج إلى مترجم عند السفر.. شاهد سماعات أذن...   \n",
       "1952  هل يمكن أن تكتسب الروبوتات مهارات اجتماعية تسا...   \n",
       "1953  بخطوات بسيطة.. كيف تجعل متصفح فايرفوكس يحافظ ع...   \n",
       "1954  بالفيديو.. طالب ماجستير يعدل هاتف آيفون ويبيعه...   \n",
       "1955  أفضلها اختبار المجموعة.. 5 طرق لمعرفة إذا تم ح...   \n",
       "\n",
       "                                                   text publication_date  \n",
       "0     تأتي المراجعة الأولى للعبة “هيل بليد” سينوا سا...        21/5/2024  \n",
       "1     أكواد الاستجابة السريعة والمعروفة باسم “كيو آر...        20/5/2024  \n",
       "2     بدأ إدخال تقنيات المعالجة الرقمية ضمن الأفلام ...        20/5/2024  \n",
       "3     أعلنت شركة آبل عن تطوير معيار مشترك بالتعاون م...        20/5/2024  \n",
       "4     فى دراسة حديثة نشرت في مجلة “نيتشر”، صمم فريق ...        20/5/2024  \n",
       "...                                                 ...              ...  \n",
       "1951  تعدّ اللغة حاجز التواصل الرئيسي لدى المسافرين ...       17/11/2021  \n",
       "1952  حكم الروبوتات بات على الأبواب، وهي قادمة لا مح...       17/11/2021  \n",
       "1953  فايرفوكس يعتبر أحد أكثر المتصفحات شهرة، وتكمن ...       16/11/2021  \n",
       "1954  استطاع طالب الماجستير في الهندسة الإلكترونية ك...       16/11/2021  \n",
       "1955  يربط تطبيق المحادثة الأكثر شهرة حول العالم وات...       15/11/2021  \n",
       "\n",
       "[1956 rows x 3 columns]"
      ]
     },
     "execution_count": 4,
     "metadata": {},
     "output_type": "execute_result"
    }
   ],
   "source": [
    "data"
   ]
  },
  {
   "cell_type": "code",
   "execution_count": null,
   "id": "9f65de9c",
   "metadata": {},
   "outputs": [],
   "source": [
    "data[\"title\"][1000]"
   ]
  },
  {
   "cell_type": "code",
   "execution_count": null,
   "id": "de657d59",
   "metadata": {},
   "outputs": [],
   "source": [
    "data[\"text\"][1000]"
   ]
  },
  {
   "cell_type": "code",
   "execution_count": null,
   "id": "ba09dd32",
   "metadata": {},
   "outputs": [],
   "source": [
    "data[\"publication_date\"][1000]"
   ]
  },
  {
   "cell_type": "code",
   "execution_count": null,
   "id": "df9834b1",
   "metadata": {},
   "outputs": [],
   "source": []
  }
 ],
 "metadata": {
  "kernelspec": {
   "display_name": "Python 3 (ipykernel)",
   "language": "python",
   "name": "python3"
  },
  "language_info": {
   "codemirror_mode": {
    "name": "ipython",
    "version": 3
   },
   "file_extension": ".py",
   "mimetype": "text/x-python",
   "name": "python",
   "nbconvert_exporter": "python",
   "pygments_lexer": "ipython3",
   "version": "3.11.5"
  }
 },
 "nbformat": 4,
 "nbformat_minor": 5
}
