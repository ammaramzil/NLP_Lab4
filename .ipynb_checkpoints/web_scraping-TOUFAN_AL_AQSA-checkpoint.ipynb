{
 "cells": [
  {
   "cell_type": "code",
   "execution_count": 1,
   "id": "044049d7",
   "metadata": {},
   "outputs": [],
   "source": [
    "from selenium import webdriver\n",
    "from selenium.webdriver.common.by import By\n",
    "from selenium.webdriver.chrome.service import Service\n",
    "from selenium.webdriver.support.ui import WebDriverWait\n",
    "from selenium.webdriver.support import expected_conditions as EC\n",
    "from bs4 import BeautifulSoup\n",
    "import time\n",
    "import pandas as pd\n",
    "import logging"
   ]
  },
  {
   "cell_type": "code",
   "execution_count": 2,
   "id": "ce8d5fa6",
   "metadata": {},
   "outputs": [],
   "source": [
    "# Path to your WebDriver (update this path as needed)\n",
    "service = Service('C:\\drivers\\chromedriver-win64\\chromedriver.exe')"
   ]
  },
  {
   "cell_type": "code",
   "execution_count": 3,
   "id": "03e886d1",
   "metadata": {},
   "outputs": [],
   "source": [
    "# Initialize the WebDriver\n",
    "driver = webdriver.Chrome(service=service)"
   ]
  },
  {
   "cell_type": "code",
   "execution_count": 4,
   "id": "4a84d895",
   "metadata": {},
   "outputs": [],
   "source": [
    "# URL of the website to scrape\n",
    "url = 'https://www.aljazeera.net/where/arab/palestine/'"
   ]
  },
  {
   "cell_type": "code",
   "execution_count": 5,
   "id": "16ca9ed2",
   "metadata": {},
   "outputs": [],
   "source": [
    "# Open the website\n",
    "driver.get(url)"
   ]
  },
  {
   "cell_type": "code",
   "execution_count": 6,
   "id": "e657a6e1",
   "metadata": {},
   "outputs": [],
   "source": [
    "# Wait for the dynamic content to load\n",
    "time.sleep(5)  # Adjust the sleep time as needed"
   ]
  },
  {
   "cell_type": "code",
   "execution_count": null,
   "id": "042a6080",
   "metadata": {},
   "outputs": [],
   "source": [
    "# Click the \"Show More\" button multiple times if needed\n",
    "#try:\n",
    "    while True:\n",
    "        show_more_button = WebDriverWait(driver, 10).until(\n",
    "            EC.element_to_be_clickable((By.XPATH, '//button[@class=\"show-more-button big-margin\"]/span[text()=\"اعرض المزيد\"]'))\n",
    "        )\n",
    "        show_more_button.click()\n",
    "        time.sleep()  # Adjust the sleep time as needed\n",
    "except:\n",
    "    print(\"No more 'Show More' buttons or an error occurred\")"
   ]
  },
  {
   "cell_type": "code",
   "execution_count": null,
   "id": "3380d0a6",
   "metadata": {},
   "outputs": [],
   "source": [
    "# Click the \"Show More\" button multiple times if needed\n",
    "click_count = 0\n",
    "max_retries = 3\n",
    "retries = 0\n",
    "\n",
    "#try:\n",
    "    while True:\n",
    "        try:\n",
    "            show_more_button = WebDriverWait(driver, 10).until(\n",
    "                EC.element_to_be_clickable((By.XPATH, '//button[@class=\"show-more-button big-margin\"]/span[text()=\"اعرض المزيد\"]'))\n",
    "            )\n",
    "            show_more_button.click()\n",
    "            click_count += 1\n",
    "            retries = 0  # Reset retries after a successful click\n",
    "            logging.info(f\"'Show More' button clicked {click_count} times\")\n",
    "            time.sleep(2)  # Adjust the sleep time as needed\n",
    "        except Exception as e:\n",
    "            logging.warning(f\"Failed to click 'Show More' button: {e}\")\n",
    "            retries += 1\n",
    "            if retries >= max_retries:\n",
    "                logging.error(\"Maximum retries reached, stopping.\")\n",
    "                break\n",
    "            time.sleep(2)  # Wait before retrying\n",
    "except Exception as e:\n",
    "    logging.error(f\"An unexpected error occurred: {e}\")"
   ]
  },
  {
   "cell_type": "code",
   "execution_count": 7,
   "id": "26c261aa",
   "metadata": {},
   "outputs": [
    {
     "name": "stderr",
     "output_type": "stream",
     "text": [
      "WARNING:root:Failed to click 'Show More' button: Message: \n",
      "Stacktrace:\n",
      "\tGetHandleVerifier [0x00007FF624E51F52+60322]\n",
      "\t(No symbol) [0x00007FF624DCCEC9]\n",
      "\t(No symbol) [0x00007FF624C87EBA]\n",
      "\t(No symbol) [0x00007FF624CD7676]\n",
      "\t(No symbol) [0x00007FF624CD773C]\n",
      "\t(No symbol) [0x00007FF624D1E967]\n",
      "\t(No symbol) [0x00007FF624CFC25F]\n",
      "\t(No symbol) [0x00007FF624D1BC80]\n",
      "\t(No symbol) [0x00007FF624CFBFC3]\n",
      "\t(No symbol) [0x00007FF624CC9617]\n",
      "\t(No symbol) [0x00007FF624CCA211]\n",
      "\tGetHandleVerifier [0x00007FF62516949D+3301613]\n",
      "\tGetHandleVerifier [0x00007FF6251B36C3+3605267]\n",
      "\tGetHandleVerifier [0x00007FF6251A9440+3563664]\n",
      "\tGetHandleVerifier [0x00007FF624F04326+790390]\n",
      "\t(No symbol) [0x00007FF624DD750F]\n",
      "\t(No symbol) [0x00007FF624DD3404]\n",
      "\t(No symbol) [0x00007FF624DD3592]\n",
      "\t(No symbol) [0x00007FF624DC2F9F]\n",
      "\tBaseThreadInitThunk [0x00007FFE79517344+20]\n",
      "\tRtlUserThreadStart [0x00007FFE7A8C26B1+33]\n",
      "\n",
      "WARNING:root:Failed to click 'Show More' button: Message: \n",
      "Stacktrace:\n",
      "\tGetHandleVerifier [0x00007FF624E51F52+60322]\n",
      "\t(No symbol) [0x00007FF624DCCEC9]\n",
      "\t(No symbol) [0x00007FF624C87EBA]\n",
      "\t(No symbol) [0x00007FF624CD7676]\n",
      "\t(No symbol) [0x00007FF624CD773C]\n",
      "\t(No symbol) [0x00007FF624D1E967]\n",
      "\t(No symbol) [0x00007FF624CFC25F]\n",
      "\t(No symbol) [0x00007FF624D1BC80]\n",
      "\t(No symbol) [0x00007FF624CFBFC3]\n",
      "\t(No symbol) [0x00007FF624CC9617]\n",
      "\t(No symbol) [0x00007FF624CCA211]\n",
      "\tGetHandleVerifier [0x00007FF62516949D+3301613]\n",
      "\tGetHandleVerifier [0x00007FF6251B36C3+3605267]\n",
      "\tGetHandleVerifier [0x00007FF6251A9440+3563664]\n",
      "\tGetHandleVerifier [0x00007FF624F04326+790390]\n",
      "\t(No symbol) [0x00007FF624DD750F]\n",
      "\t(No symbol) [0x00007FF624DD3404]\n",
      "\t(No symbol) [0x00007FF624DD3592]\n",
      "\t(No symbol) [0x00007FF624DC2F9F]\n",
      "\tBaseThreadInitThunk [0x00007FFE79517344+20]\n",
      "\tRtlUserThreadStart [0x00007FFE7A8C26B1+33]\n",
      "\n"
     ]
    }
   ],
   "source": [
    "# Click the \"Show More\" button multiple times if needed\n",
    "click_count = 0\n",
    "max_clicks = 200  # Set the maximum number of clicks\n",
    "max_retries = 3\n",
    "retries = 0\n",
    "\n",
    "try:\n",
    "    while click_count < max_clicks:\n",
    "        try:\n",
    "            show_more_button = WebDriverWait(driver, 10).until(\n",
    "                EC.element_to_be_clickable((By.XPATH, '//button[@class=\"show-more-button big-margin\"]/span[text()=\"اعرض المزيد\"]'))\n",
    "            )\n",
    "            show_more_button.click()\n",
    "            click_count += 1\n",
    "            retries = 0  # Reset retries after a successful click\n",
    "            logging.info(f\"'Show More' button clicked {click_count} times\")\n",
    "            time.sleep(2)  # Adjust the sleep time as needed\n",
    "        except Exception as e:\n",
    "            logging.warning(f\"Failed to click 'Show More' button: {e}\")\n",
    "            retries += 1\n",
    "            if retries >= max_retries:\n",
    "                logging.error(\"Maximum retries reached, stopping.\")\n",
    "                break\n",
    "            time.sleep(2)  # Wait before retrying\n",
    "except Exception as e:\n",
    "    logging.error(f\"An unexpected error occurred: {e}\")"
   ]
  },
  {
   "cell_type": "code",
   "execution_count": 8,
   "id": "15cd9cc2",
   "metadata": {},
   "outputs": [],
   "source": [
    "# Extract the page source and parse it with BeautifulSoup\n",
    "page_source = driver.page_source\n",
    "soup = BeautifulSoup(page_source, 'html.parser')"
   ]
  },
  {
   "cell_type": "code",
   "execution_count": null,
   "id": "37d40151",
   "metadata": {},
   "outputs": [],
   "source": [
    "soup"
   ]
  },
  {
   "cell_type": "code",
   "execution_count": 9,
   "id": "6f17c3ca",
   "metadata": {},
   "outputs": [],
   "source": [
    "#create a container for the neded data\n",
    "containers = soup.find_all(\"article\", {\"class\":\"gc u-clickable-card gc--type-post gc--list gc--with-image\"})"
   ]
  },
  {
   "cell_type": "code",
   "execution_count": 10,
   "id": "17c3d36e",
   "metadata": {},
   "outputs": [
    {
     "data": {
      "text/plain": [
       "1711"
      ]
     },
     "execution_count": 10,
     "metadata": {},
     "output_type": "execute_result"
    }
   ],
   "source": [
    "len(containers)"
   ]
  },
  {
   "cell_type": "code",
   "execution_count": 11,
   "id": "e41cfb5d",
   "metadata": {},
   "outputs": [
    {
     "data": {
      "text/plain": [
       "<article class=\"gc u-clickable-card gc--type-post gc--list gc--with-image\"><div class=\"gc__image-placeholder\"></div><div class=\"gc__content\"><div class=\"gc__header-wrap\"><div class=\"gc__header-meta u-clickable-card__exclude\"></div><h3 class=\"gc__title\"><a class=\"u-clickable-card__link\" href=\"/news/2024/5/18/أبرز-تطورات-اليوم-الـ225-من-الحرب\"><span>أبرز تطورات اليوم الـ225 من الحرب الإسرائيلية على غزة</span></a></h3></div><div class=\"gc__body-wrap\"><div class=\"gc__excerpt\"><p>في اليوم الـ225 من العدوان على غزة، ارتكب الجيش الإسرائيلي مجزرة في مخيم جباليا أسفرت عن عشرات الشهداء والجرحى، في حين أوقعت المقاومة خسائر فادحة جديدة في صفوف قوات الاحتلال.</p></div></div><footer class=\"gc__footer\"><div class=\"gc__meta\"><div class=\"gc__date gc__date--published\"><div class=\"gc__date__date\"><div class=\"date-simple css-1yjq2zp\"><span class=\"screen-reader-text\">Published On 18/5/2024</span><span aria-hidden=\"true\">18/5/2024</span></div></div></div></div></footer></div><div class=\"gc__image-wrap\"><div aria-hidden=\"false\" class=\"article-card__image-wrap article-card__featured-image\" tabindex=\"-1\"><div class=\"responsive-image\"><img alt=\"\" class=\"article-card__image gc__image\" loading=\"lazy\" sizes=\"(max-width: 140px) 140px, (max-width: 170px) 170px, (max-width: 270px) 270px, (max-width: 375px) 375px, (max-width: 570px) 570px, (max-width: 770px) 770px, 770px\" src=\"/wp-content/uploads/2024/05/image-1716041781.jpg?resize=770%2C513&amp;quality=80\" srcset=\"/wp-content/uploads/2024/05/image-1716041781.jpg?resize=140%2C93&amp;quality=80 140w, /wp-content/uploads/2024/05/image-1716041781.jpg?resize=170%2C113&amp;quality=80 170w, /wp-content/uploads/2024/05/image-1716041781.jpg?resize=270%2C180&amp;quality=80 270w, /wp-content/uploads/2024/05/image-1716041781.jpg?resize=375%2C250&amp;quality=80 375w, /wp-content/uploads/2024/05/image-1716041781.jpg?resize=570%2C380&amp;quality=80 570w, /wp-content/uploads/2024/05/image-1716041781.jpg?resize=770%2C513&amp;quality=80 770w\"/></div><div class=\"article-card__post-type-icon article-card__post-type-icon--video\"><div class=\"video-item-duration-container\"><svg aria-hidden=\"true\" class=\"icon icon--play-arrow icon--primary icon--16 gc__meta__icon\" version=\"1.1\" viewbox=\"0 0 8 8\"><title>play-arrow</title><path d=\"M.197 7.952A.39.39 0 0 1 0 7.61V.39C0 .247.076.114.197.048a.36.36 0 0 1 .384.018l5.25 3.61A.394.394 0 0 1 6 3.998a.394.394 0 0 1-.169.327l-5.25 3.61a.362.362 0 0 1-.384.016Z\" fill=\"#FFF\" fill-rule=\"evenodd\"></path></svg><span class=\"screen-reader-text\">مدة الفيديو 03 minutes 40 seconds </span><span aria-hidden=\"true\" class=\"video-duration__duration\">03:40</span></div></div></div></div></article>"
      ]
     },
     "execution_count": 11,
     "metadata": {},
     "output_type": "execute_result"
    }
   ],
   "source": [
    "###############################################################################\n",
    "containers[119]"
   ]
  },
  {
   "cell_type": "code",
   "execution_count": 12,
   "id": "5c5f4d3b",
   "metadata": {},
   "outputs": [
    {
     "data": {
      "text/plain": [
       "'<article class=\"gc u-clickable-card gc--type-post gc--list gc--with-image\">\\n <div class=\"gc__image-placeholder\">\\n </div>\\n <div class=\"gc__content\">\\n  <div class=\"gc__header-wrap\">\\n   <div class=\"gc__header-meta u-clickable-card__exclude\">\\n   </div>\\n   <h3 class=\"gc__title\">\\n    <a class=\"u-clickable-card__link\" href=\"/news/2024/5/18/أبرز-تطورات-اليوم-الـ225-من-الحرب\">\\n     <span>\\n      أبرز تطورات اليوم الـ225 من الحرب الإسرائيلية على غزة\\n     </span>\\n    </a>\\n   </h3>\\n  </div>\\n  <div class=\"gc__body-wrap\">\\n   <div class=\"gc__excerpt\">\\n    <p>\\n     في اليوم الـ225 من العدوان على\\xa0غزة، ارتكب الجيش الإسرائيلي مجزرة في\\xa0مخيم جباليا\\xa0أسفرت عن عشرات الشهداء والجرحى، في حين أوقعت المقاومة خسائر فادحة جديدة في صفوف قوات الاحتلال.\\n    </p>\\n   </div>\\n  </div>\\n  <footer class=\"gc__footer\">\\n   <div class=\"gc__meta\">\\n    <div class=\"gc__date gc__date--published\">\\n     <div class=\"gc__date__date\">\\n      <div class=\"date-simple css-1yjq2zp\">\\n       <span class=\"screen-reader-text\">\\n        Published On 18/5/2024\\n       </span>\\n       <span aria-hidden=\"true\">\\n        18/5/2024\\n       </span>\\n      </div>\\n     </div>\\n    </div>\\n   </div>\\n  </footer>\\n </div>\\n <div class=\"gc__image-wrap\">\\n  <div aria-hidden=\"false\" class=\"article-card__image-wrap article-card__featured-image\" tabindex=\"-1\">\\n   <div class=\"responsive-image\">\\n    <img alt=\"\" class=\"article-card__image gc__image\" loading=\"lazy\" sizes=\"(max-width: 140px) 140px, (max-width: 170px) 170px, (max-width: 270px) 270px, (max-width: 375px) 375px, (max-width: 570px) 570px, (max-width: 770px) 770px, 770px\" src=\"/wp-content/uploads/2024/05/image-1716041781.jpg?resize=770%2C513&amp;quality=80\" srcset=\"/wp-content/uploads/2024/05/image-1716041781.jpg?resize=140%2C93&amp;quality=80 140w, /wp-content/uploads/2024/05/image-1716041781.jpg?resize=170%2C113&amp;quality=80 170w, /wp-content/uploads/2024/05/image-1716041781.jpg?resize=270%2C180&amp;quality=80 270w, /wp-content/uploads/2024/05/image-1716041781.jpg?resize=375%2C250&amp;quality=80 375w, /wp-content/uploads/2024/05/image-1716041781.jpg?resize=570%2C380&amp;quality=80 570w, /wp-content/uploads/2024/05/image-1716041781.jpg?resize=770%2C513&amp;quality=80 770w\"/>\\n   </div>\\n   <div class=\"article-card__post-type-icon article-card__post-type-icon--video\">\\n    <div class=\"video-item-duration-container\">\\n     <svg aria-hidden=\"true\" class=\"icon icon--play-arrow icon--primary icon--16 gc__meta__icon\" version=\"1.1\" viewbox=\"0 0 8 8\">\\n      <title>\\n       play-arrow\\n      </title>\\n      <path d=\"M.197 7.952A.39.39 0 0 1 0 7.61V.39C0 .247.076.114.197.048a.36.36 0 0 1 .384.018l5.25 3.61A.394.394 0 0 1 6 3.998a.394.394 0 0 1-.169.327l-5.25 3.61a.362.362 0 0 1-.384.016Z\" fill=\"#FFF\" fill-rule=\"evenodd\">\\n      </path>\\n     </svg>\\n     <span class=\"screen-reader-text\">\\n      مدة الفيديو 03 minutes 40 seconds\\n     </span>\\n     <span aria-hidden=\"true\" class=\"video-duration__duration\">\\n      03:40\\n     </span>\\n    </div>\\n   </div>\\n  </div>\\n </div>\\n</article>\\n'"
      ]
     },
     "execution_count": 12,
     "metadata": {},
     "output_type": "execute_result"
    }
   ],
   "source": [
    "BeautifulSoup.prettify(containers[119])"
   ]
  },
  {
   "cell_type": "code",
   "execution_count": 13,
   "id": "ee9e3475",
   "metadata": {},
   "outputs": [],
   "source": [
    "new_text=containers[0].find_all(\"p\")"
   ]
  },
  {
   "cell_type": "code",
   "execution_count": 14,
   "id": "ff31a71c",
   "metadata": {},
   "outputs": [
    {
     "data": {
      "text/plain": [
       "'أكد وزير خارجية النرويج إسبن بارث إيدي في مقابلة مع قناة الجزيرة أن اعتراف بلاده رسميا بالدولة الفلسطينية سيدخل حيز التنفيذ الأسبوع المقبل في 28 مايو/أيار الجاري، مشددا على ضرورة تسوية قضية فلسطين.'"
      ]
     },
     "execution_count": 14,
     "metadata": {},
     "output_type": "execute_result"
    }
   ],
   "source": [
    "new_text[0].text"
   ]
  },
  {
   "cell_type": "code",
   "execution_count": 15,
   "id": "76782d91",
   "metadata": {},
   "outputs": [],
   "source": [
    "new_title = containers[0].find_all(\"h3\")"
   ]
  },
  {
   "cell_type": "code",
   "execution_count": 16,
   "id": "1d22f5e6",
   "metadata": {},
   "outputs": [
    {
     "data": {
      "text/plain": [
       "'وزير خارجية النرويج للجزيرة: اعترفنا بالدولة الفلسطينية لتحقيق العدل والمساواة'"
      ]
     },
     "execution_count": 16,
     "metadata": {},
     "output_type": "execute_result"
    }
   ],
   "source": [
    "new_title[0].text"
   ]
  },
  {
   "cell_type": "code",
   "execution_count": 17,
   "id": "03101fd5",
   "metadata": {},
   "outputs": [],
   "source": [
    "new_publication_date = containers[1].find_all(\"span\",{\"aria-hidden\":\"true\"})[0].text"
   ]
  },
  {
   "cell_type": "code",
   "execution_count": 18,
   "id": "39a77a3a",
   "metadata": {},
   "outputs": [
    {
     "data": {
      "text/plain": [
       "'22/5/2024'"
      ]
     },
     "execution_count": 18,
     "metadata": {},
     "output_type": "execute_result"
    }
   ],
   "source": [
    "new_publication_date"
   ]
  },
  {
   "cell_type": "code",
   "execution_count": 20,
   "id": "d239395b",
   "metadata": {},
   "outputs": [
    {
     "data": {
      "text/plain": [
       "28"
      ]
     },
     "execution_count": 20,
     "metadata": {},
     "output_type": "execute_result"
    }
   ],
   "source": [
    "###################################################################\n",
    "f = open(\"Toufan_AL-AQSA_data.tsv\",\"w\" , encoding='utf-8')\n",
    "header = \"title\\ttext\\tpublication_date\\n\"\n",
    "f.write(header)"
   ]
  },
  {
   "cell_type": "code",
   "execution_count": 21,
   "id": "dfdc468d",
   "metadata": {},
   "outputs": [],
   "source": [
    "for container in containers:\n",
    "    new_title1 = container.find_all(\"h3\")\n",
    "    new_text1=container.find_all(\"p\")\n",
    "    new_publication_date1 = container.find_all(\"span\",{\"aria-hidden\":\"true\"})[0].text.strip()\n",
    "    if new_title1 and new_text1 and new_publication_date1:\n",
    "        n_title1 = new_title1[0].text.strip()        \n",
    "        n_text1 = new_text1[0].text.strip()\n",
    "        f.write(n_title1 + \"\\t\" + n_text1 + \"\\t\" + new_publication_date1 + \"\\n\" )\n",
    "    \n",
    "    #print(new1_text)\n",
    "    #print()\n",
    "f.close()"
   ]
  },
  {
   "cell_type": "code",
   "execution_count": 22,
   "id": "e9fbbc30",
   "metadata": {},
   "outputs": [],
   "source": [
    "# Close the WebDriver\n",
    "driver.quit()"
   ]
  },
  {
   "cell_type": "code",
   "execution_count": 23,
   "id": "fe2878fb",
   "metadata": {},
   "outputs": [],
   "source": [
    "data=pd.read_csv(\"Toufan_AL-AQSA_data.tsv\", sep=\"\\t\")"
   ]
  },
  {
   "cell_type": "code",
   "execution_count": 24,
   "id": "0117ae3c",
   "metadata": {},
   "outputs": [
    {
     "data": {
      "text/html": [
       "<div>\n",
       "<style scoped>\n",
       "    .dataframe tbody tr th:only-of-type {\n",
       "        vertical-align: middle;\n",
       "    }\n",
       "\n",
       "    .dataframe tbody tr th {\n",
       "        vertical-align: top;\n",
       "    }\n",
       "\n",
       "    .dataframe thead th {\n",
       "        text-align: right;\n",
       "    }\n",
       "</style>\n",
       "<table border=\"1\" class=\"dataframe\">\n",
       "  <thead>\n",
       "    <tr style=\"text-align: right;\">\n",
       "      <th></th>\n",
       "      <th>title</th>\n",
       "      <th>text</th>\n",
       "      <th>publication_date</th>\n",
       "    </tr>\n",
       "  </thead>\n",
       "  <tbody>\n",
       "    <tr>\n",
       "      <th>0</th>\n",
       "      <td>وزير خارجية النرويج للجزيرة: اعترفنا بالدولة ا...</td>\n",
       "      <td>أكد وزير خارجية النرويج إسبن بارث إيدي في مقاب...</td>\n",
       "      <td>22/5/2024</td>\n",
       "    </tr>\n",
       "    <tr>\n",
       "      <th>1</th>\n",
       "      <td>ترحيب عربي واسع وغضب إسرائيلي عارم باعتراف دول...</td>\n",
       "      <td>رحبت فلسطين ودول عربية بإعلان النرويج وإسبانيا...</td>\n",
       "      <td>22/5/2024</td>\n",
       "    </tr>\n",
       "    <tr>\n",
       "      <th>2</th>\n",
       "      <td>الاحتلال يوسع اقتحامه لجنين ويشن حملات اعتقال ...</td>\n",
       "      <td>وسَّع جيش الاحتلال الإسرائيلي، الأربعاء، عمليت...</td>\n",
       "      <td>22/5/2024</td>\n",
       "    </tr>\n",
       "    <tr>\n",
       "      <th>3</th>\n",
       "      <td>حزب الله يعلن مقتل اثنين من عناصره بغارة إسرائ...</td>\n",
       "      <td>نعى حزب الله اللبناني اثنين من عناصره قتلا في ...</td>\n",
       "      <td>22/5/2024</td>\n",
       "    </tr>\n",
       "    <tr>\n",
       "      <th>4</th>\n",
       "      <td>حكم غزة عسكريا.. هل يصمد مخطط نتنياهو؟</td>\n",
       "      <td>تظهر الخلافات المتواصلة في مجلس الحرب الإسرائي...</td>\n",
       "      <td>22/5/2024</td>\n",
       "    </tr>\n",
       "    <tr>\n",
       "      <th>...</th>\n",
       "      <td>...</td>\n",
       "      <td>...</td>\n",
       "      <td>...</td>\n",
       "    </tr>\n",
       "    <tr>\n",
       "      <th>1706</th>\n",
       "      <td>المطبخ المركزي العالمي يدين استهداف فريقه في غ...</td>\n",
       "      <td>أعرب مؤسس منظمة “ورلد سنترال كيتشن” (المطبخ ال...</td>\n",
       "      <td>2/4/2024</td>\n",
       "    </tr>\n",
       "    <tr>\n",
       "      <th>1707</th>\n",
       "      <td>رويترز: إدارة بايدن تدرس صفقة بـ18 مليار دولار...</td>\n",
       "      <td>نقلت وكالة رويترز عن 3 مصادر مطلعة أن إدارة ال...</td>\n",
       "      <td>2/4/2024</td>\n",
       "    </tr>\n",
       "    <tr>\n",
       "      <th>1708</th>\n",
       "      <td>مقتل فريق إغاثة أجنبي بقصف إسرائيلي على دير البلح</td>\n",
       "      <td>أفاد مراسل الجزيرة بأن جيش الاحتلال الإسرائيلي...</td>\n",
       "      <td>2/4/2024</td>\n",
       "    </tr>\n",
       "    <tr>\n",
       "      <th>1709</th>\n",
       "      <td>بينهم الشيخ رائد صلاح.. هذا ما جرى مع قيادات ف...</td>\n",
       "      <td>قال رئيس لجنة المتابعة العليا لفلسطينيي الداخل...</td>\n",
       "      <td>2/4/2024</td>\n",
       "    </tr>\n",
       "    <tr>\n",
       "      <th>1710</th>\n",
       "      <td>الجزيرة تستنكر تصريحات نتنياهو وتصفها بالكذبة ...</td>\n",
       "      <td>استنكرت شبكة الجزيرة تصريحات رئيس الوزراء الإس...</td>\n",
       "      <td>1/4/2024</td>\n",
       "    </tr>\n",
       "  </tbody>\n",
       "</table>\n",
       "<p>1711 rows × 3 columns</p>\n",
       "</div>"
      ],
      "text/plain": [
       "                                                  title  \\\n",
       "0     وزير خارجية النرويج للجزيرة: اعترفنا بالدولة ا...   \n",
       "1     ترحيب عربي واسع وغضب إسرائيلي عارم باعتراف دول...   \n",
       "2     الاحتلال يوسع اقتحامه لجنين ويشن حملات اعتقال ...   \n",
       "3     حزب الله يعلن مقتل اثنين من عناصره بغارة إسرائ...   \n",
       "4                حكم غزة عسكريا.. هل يصمد مخطط نتنياهو؟   \n",
       "...                                                 ...   \n",
       "1706  المطبخ المركزي العالمي يدين استهداف فريقه في غ...   \n",
       "1707  رويترز: إدارة بايدن تدرس صفقة بـ18 مليار دولار...   \n",
       "1708  مقتل فريق إغاثة أجنبي بقصف إسرائيلي على دير البلح   \n",
       "1709  بينهم الشيخ رائد صلاح.. هذا ما جرى مع قيادات ف...   \n",
       "1710  الجزيرة تستنكر تصريحات نتنياهو وتصفها بالكذبة ...   \n",
       "\n",
       "                                                   text publication_date  \n",
       "0     أكد وزير خارجية النرويج إسبن بارث إيدي في مقاب...        22/5/2024  \n",
       "1     رحبت فلسطين ودول عربية بإعلان النرويج وإسبانيا...        22/5/2024  \n",
       "2     وسَّع جيش الاحتلال الإسرائيلي، الأربعاء، عمليت...        22/5/2024  \n",
       "3     نعى حزب الله اللبناني اثنين من عناصره قتلا في ...        22/5/2024  \n",
       "4     تظهر الخلافات المتواصلة في مجلس الحرب الإسرائي...        22/5/2024  \n",
       "...                                                 ...              ...  \n",
       "1706  أعرب مؤسس منظمة “ورلد سنترال كيتشن” (المطبخ ال...         2/4/2024  \n",
       "1707  نقلت وكالة رويترز عن 3 مصادر مطلعة أن إدارة ال...         2/4/2024  \n",
       "1708  أفاد مراسل الجزيرة بأن جيش الاحتلال الإسرائيلي...         2/4/2024  \n",
       "1709  قال رئيس لجنة المتابعة العليا لفلسطينيي الداخل...         2/4/2024  \n",
       "1710  استنكرت شبكة الجزيرة تصريحات رئيس الوزراء الإس...         1/4/2024  \n",
       "\n",
       "[1711 rows x 3 columns]"
      ]
     },
     "execution_count": 24,
     "metadata": {},
     "output_type": "execute_result"
    }
   ],
   "source": [
    "data"
   ]
  },
  {
   "cell_type": "code",
   "execution_count": 25,
   "id": "7144fa15",
   "metadata": {},
   "outputs": [
    {
     "data": {
      "text/plain": [
       "'مؤسستان إنسانيتان: إجلاء المدنيين من رفح غير ممكن'"
      ]
     },
     "execution_count": 25,
     "metadata": {},
     "output_type": "execute_result"
    }
   ],
   "source": [
    "data[\"title\"][1000]"
   ]
  },
  {
   "cell_type": "code",
   "execution_count": 26,
   "id": "99f4b3a1",
   "metadata": {},
   "outputs": [
    {
     "data": {
      "text/plain": [
       "'في حين تواصل إسرائيل توعدها بشن هجوم على رفح المكتظة بالنازحين، أكد الصليب الأحمر والمجلس النرويجي للاجئين عدم وجود خطط لإجلاء النازحين أو أماكن يمكن أن ينقلوا إليها من دون أن يواجههم خطر الموت.'"
      ]
     },
     "execution_count": 26,
     "metadata": {},
     "output_type": "execute_result"
    }
   ],
   "source": [
    "data[\"text\"][1000]"
   ]
  },
  {
   "cell_type": "code",
   "execution_count": 27,
   "id": "7c65281d",
   "metadata": {},
   "outputs": [
    {
     "data": {
      "text/plain": [
       "'24/4/2024'"
      ]
     },
     "execution_count": 27,
     "metadata": {},
     "output_type": "execute_result"
    }
   ],
   "source": [
    "data[\"publication_date\"][1000]"
   ]
  },
  {
   "cell_type": "code",
   "execution_count": null,
   "id": "526a4d4b",
   "metadata": {},
   "outputs": [],
   "source": []
  }
 ],
 "metadata": {
  "kernelspec": {
   "display_name": "Python 3 (ipykernel)",
   "language": "python",
   "name": "python3"
  },
  "language_info": {
   "codemirror_mode": {
    "name": "ipython",
    "version": 3
   },
   "file_extension": ".py",
   "mimetype": "text/x-python",
   "name": "python",
   "nbconvert_exporter": "python",
   "pygments_lexer": "ipython3",
   "version": "3.11.5"
  }
 },
 "nbformat": 4,
 "nbformat_minor": 5
}
