{
 "cells": [
  {
   "cell_type": "code",
   "execution_count": 1,
   "id": "044049d7",
   "metadata": {},
   "outputs": [],
   "source": [
    "from selenium import webdriver\n",
    "from selenium.webdriver.common.by import By\n",
    "from selenium.webdriver.chrome.service import Service\n",
    "from selenium.webdriver.support.ui import WebDriverWait\n",
    "from selenium.webdriver.support import expected_conditions as EC\n",
    "from bs4 import BeautifulSoup\n",
    "import time\n",
    "import pandas as pd\n",
    "import logging"
   ]
  },
  {
   "cell_type": "code",
   "execution_count": 2,
   "id": "ce8d5fa6",
   "metadata": {},
   "outputs": [],
   "source": [
    "# Path to your WebDriver (update this path as needed)\n",
    "service = Service('C:\\drivers\\chromedriver-win64\\chromedriver.exe')"
   ]
  },
  {
   "cell_type": "code",
   "execution_count": 3,
   "id": "03e886d1",
   "metadata": {},
   "outputs": [],
   "source": [
    "# Initialize the WebDriver\n",
    "driver = webdriver.Chrome(service=service)"
   ]
  },
  {
   "cell_type": "code",
   "execution_count": 4,
   "id": "4a84d895",
   "metadata": {},
   "outputs": [],
   "source": [
    "# URL of the website to scrape\n",
    "url = 'https://www.aljazeera.net/where/arab/palestine/'"
   ]
  },
  {
   "cell_type": "code",
   "execution_count": 5,
   "id": "16ca9ed2",
   "metadata": {},
   "outputs": [],
   "source": [
    "# Open the website\n",
    "driver.get(url)"
   ]
  },
  {
   "cell_type": "code",
   "execution_count": 6,
   "id": "e657a6e1",
   "metadata": {},
   "outputs": [],
   "source": [
    "# Wait for the dynamic content to load\n",
    "time.sleep(5)  # Adjust the sleep time as needed"
   ]
  },
  {
   "cell_type": "code",
   "execution_count": null,
   "id": "042a6080",
   "metadata": {},
   "outputs": [],
   "source": [
    "# Click the \"Show More\" button multiple times if needed\n",
    "#try:\n",
    "    while True:\n",
    "        show_more_button = WebDriverWait(driver, 10).until(\n",
    "            EC.element_to_be_clickable((By.XPATH, '//button[@class=\"show-more-button big-margin\"]/span[text()=\"اعرض المزيد\"]'))\n",
    "        )\n",
    "        show_more_button.click()\n",
    "        time.sleep()  # Adjust the sleep time as needed\n",
    "except:\n",
    "    print(\"No more 'Show More' buttons or an error occurred\")"
   ]
  },
  {
   "cell_type": "code",
   "execution_count": 7,
   "id": "3380d0a6",
   "metadata": {},
   "outputs": [
    {
     "name": "stderr",
     "output_type": "stream",
     "text": [
      "WARNING:root:Failed to click 'Show More' button: Message: \n",
      "Stacktrace:\n",
      "\tGetHandleVerifier [0x00007FF624E51F52+60322]\n",
      "\t(No symbol) [0x00007FF624DCCEC9]\n",
      "\t(No symbol) [0x00007FF624C87EBA]\n",
      "\t(No symbol) [0x00007FF624CD7676]\n",
      "\t(No symbol) [0x00007FF624CD773C]\n",
      "\t(No symbol) [0x00007FF624D1E967]\n",
      "\t(No symbol) [0x00007FF624CFC25F]\n",
      "\t(No symbol) [0x00007FF624D1BC80]\n",
      "\t(No symbol) [0x00007FF624CFBFC3]\n",
      "\t(No symbol) [0x00007FF624CC9617]\n",
      "\t(No symbol) [0x00007FF624CCA211]\n",
      "\tGetHandleVerifier [0x00007FF62516949D+3301613]\n",
      "\tGetHandleVerifier [0x00007FF6251B36C3+3605267]\n",
      "\tGetHandleVerifier [0x00007FF6251A9440+3563664]\n",
      "\tGetHandleVerifier [0x00007FF624F04326+790390]\n",
      "\t(No symbol) [0x00007FF624DD750F]\n",
      "\t(No symbol) [0x00007FF624DD3404]\n",
      "\t(No symbol) [0x00007FF624DD3592]\n",
      "\t(No symbol) [0x00007FF624DC2F9F]\n",
      "\tBaseThreadInitThunk [0x00007FFE79517344+20]\n",
      "\tRtlUserThreadStart [0x00007FFE7A8C26B1+33]\n",
      "\n",
      "WARNING:root:Failed to click 'Show More' button: Message: \n",
      "Stacktrace:\n",
      "\tGetHandleVerifier [0x00007FF624E51F52+60322]\n",
      "\t(No symbol) [0x00007FF624DCCEC9]\n",
      "\t(No symbol) [0x00007FF624C87EBA]\n",
      "\t(No symbol) [0x00007FF624CD7676]\n",
      "\t(No symbol) [0x00007FF624CD773C]\n",
      "\t(No symbol) [0x00007FF624D1E967]\n",
      "\t(No symbol) [0x00007FF624CFC25F]\n",
      "\t(No symbol) [0x00007FF624D1BC80]\n",
      "\t(No symbol) [0x00007FF624CFBFC3]\n",
      "\t(No symbol) [0x00007FF624CC9617]\n",
      "\t(No symbol) [0x00007FF624CCA211]\n",
      "\tGetHandleVerifier [0x00007FF62516949D+3301613]\n",
      "\tGetHandleVerifier [0x00007FF6251B36C3+3605267]\n",
      "\tGetHandleVerifier [0x00007FF6251A9440+3563664]\n",
      "\tGetHandleVerifier [0x00007FF624F04326+790390]\n",
      "\t(No symbol) [0x00007FF624DD750F]\n",
      "\t(No symbol) [0x00007FF624DD3404]\n",
      "\t(No symbol) [0x00007FF624DD3592]\n",
      "\t(No symbol) [0x00007FF624DC2F9F]\n",
      "\tBaseThreadInitThunk [0x00007FFE79517344+20]\n",
      "\tRtlUserThreadStart [0x00007FFE7A8C26B1+33]\n",
      "\n",
      "WARNING:root:Failed to click 'Show More' button: Message: \n",
      "Stacktrace:\n",
      "\tGetHandleVerifier [0x00007FF624E51F52+60322]\n",
      "\t(No symbol) [0x00007FF624DCCEC9]\n",
      "\t(No symbol) [0x00007FF624C87EBA]\n",
      "\t(No symbol) [0x00007FF624CD7676]\n",
      "\t(No symbol) [0x00007FF624CD773C]\n",
      "\t(No symbol) [0x00007FF624D1E967]\n",
      "\t(No symbol) [0x00007FF624CFC25F]\n",
      "\t(No symbol) [0x00007FF624D1BC80]\n",
      "\t(No symbol) [0x00007FF624CFBFC3]\n",
      "\t(No symbol) [0x00007FF624CC9617]\n",
      "\t(No symbol) [0x00007FF624CCA211]\n",
      "\tGetHandleVerifier [0x00007FF62516949D+3301613]\n",
      "\tGetHandleVerifier [0x00007FF6251B36C3+3605267]\n",
      "\tGetHandleVerifier [0x00007FF6251A9440+3563664]\n",
      "\tGetHandleVerifier [0x00007FF624F04326+790390]\n",
      "\t(No symbol) [0x00007FF624DD750F]\n",
      "\t(No symbol) [0x00007FF624DD3404]\n",
      "\t(No symbol) [0x00007FF624DD3592]\n",
      "\t(No symbol) [0x00007FF624DC2F9F]\n",
      "\tBaseThreadInitThunk [0x00007FFE79517344+20]\n",
      "\tRtlUserThreadStart [0x00007FFE7A8C26B1+33]\n",
      "\n",
      "WARNING:root:Failed to click 'Show More' button: Message: \n",
      "Stacktrace:\n",
      "\tGetHandleVerifier [0x00007FF624E51F52+60322]\n",
      "\t(No symbol) [0x00007FF624DCCEC9]\n",
      "\t(No symbol) [0x00007FF624C87EBA]\n",
      "\t(No symbol) [0x00007FF624CD7676]\n",
      "\t(No symbol) [0x00007FF624CD773C]\n",
      "\t(No symbol) [0x00007FF624D1E967]\n",
      "\t(No symbol) [0x00007FF624CFC25F]\n",
      "\t(No symbol) [0x00007FF624D1BC80]\n",
      "\t(No symbol) [0x00007FF624CFBFC3]\n",
      "\t(No symbol) [0x00007FF624CC9617]\n",
      "\t(No symbol) [0x00007FF624CCA211]\n",
      "\tGetHandleVerifier [0x00007FF62516949D+3301613]\n",
      "\tGetHandleVerifier [0x00007FF6251B36C3+3605267]\n",
      "\tGetHandleVerifier [0x00007FF6251A9440+3563664]\n",
      "\tGetHandleVerifier [0x00007FF624F04326+790390]\n",
      "\t(No symbol) [0x00007FF624DD750F]\n",
      "\t(No symbol) [0x00007FF624DD3404]\n",
      "\t(No symbol) [0x00007FF624DD3592]\n",
      "\t(No symbol) [0x00007FF624DC2F9F]\n",
      "\tBaseThreadInitThunk [0x00007FFE79517344+20]\n",
      "\tRtlUserThreadStart [0x00007FFE7A8C26B1+33]\n",
      "\n",
      "WARNING:root:Failed to click 'Show More' button: Message: element click intercepted: Element <span aria-hidden=\"true\">...</span> is not clickable at point (874, 151). Other element would receive the click: <a class=\"u-clickable-card__link\" href=\"/health/2024/3/19/طبيب-فرنسي-عائد-من-غزة-شاهدنا-الكثير-من\">...</a>\n",
      "  (Session info: chrome=125.0.6422.77)\n",
      "Stacktrace:\n",
      "\tGetHandleVerifier [0x00007FF624E51F52+60322]\n",
      "\t(No symbol) [0x00007FF624DCCEC9]\n",
      "\t(No symbol) [0x00007FF624C87EBA]\n",
      "\t(No symbol) [0x00007FF624CDF32E]\n",
      "\t(No symbol) [0x00007FF624CDCCF2]\n",
      "\t(No symbol) [0x00007FF624CDA18B]\n",
      "\t(No symbol) [0x00007FF624CD9356]\n",
      "\t(No symbol) [0x00007FF624CCB491]\n",
      "\t(No symbol) [0x00007FF624CFC21A]\n",
      "\t(No symbol) [0x00007FF624CCADB6]\n",
      "\t(No symbol) [0x00007FF624CFC430]\n",
      "\t(No symbol) [0x00007FF624D1BC80]\n",
      "\t(No symbol) [0x00007FF624CFBFC3]\n",
      "\t(No symbol) [0x00007FF624CC9617]\n",
      "\t(No symbol) [0x00007FF624CCA211]\n",
      "\tGetHandleVerifier [0x00007FF62516949D+3301613]\n",
      "\tGetHandleVerifier [0x00007FF6251B36C3+3605267]\n",
      "\tGetHandleVerifier [0x00007FF6251A9440+3563664]\n",
      "\tGetHandleVerifier [0x00007FF624F04326+790390]\n",
      "\t(No symbol) [0x00007FF624DD750F]\n",
      "\t(No symbol) [0x00007FF624DD3404]\n",
      "\t(No symbol) [0x00007FF624DD3592]\n",
      "\t(No symbol) [0x00007FF624DC2F9F]\n",
      "\tBaseThreadInitThunk [0x00007FFE79517344+20]\n",
      "\tRtlUserThreadStart [0x00007FFE7A8C26B1+33]\n",
      "\n",
      "WARNING:root:Failed to click 'Show More' button: Message: \n",
      "Stacktrace:\n",
      "\tGetHandleVerifier [0x00007FF624E51F52+60322]\n",
      "\t(No symbol) [0x00007FF624DCCEC9]\n",
      "\t(No symbol) [0x00007FF624C87EBA]\n",
      "\t(No symbol) [0x00007FF624CD7676]\n",
      "\t(No symbol) [0x00007FF624CD773C]\n",
      "\t(No symbol) [0x00007FF624D1E967]\n",
      "\t(No symbol) [0x00007FF624CFC25F]\n",
      "\t(No symbol) [0x00007FF624D1BC80]\n",
      "\t(No symbol) [0x00007FF624CFBFC3]\n",
      "\t(No symbol) [0x00007FF624CC9617]\n",
      "\t(No symbol) [0x00007FF624CCA211]\n",
      "\tGetHandleVerifier [0x00007FF62516949D+3301613]\n",
      "\tGetHandleVerifier [0x00007FF6251B36C3+3605267]\n",
      "\tGetHandleVerifier [0x00007FF6251A9440+3563664]\n",
      "\tGetHandleVerifier [0x00007FF624F04326+790390]\n",
      "\t(No symbol) [0x00007FF624DD750F]\n",
      "\t(No symbol) [0x00007FF624DD3404]\n",
      "\t(No symbol) [0x00007FF624DD3592]\n",
      "\t(No symbol) [0x00007FF624DC2F9F]\n",
      "\tBaseThreadInitThunk [0x00007FFE79517344+20]\n",
      "\tRtlUserThreadStart [0x00007FFE7A8C26B1+33]\n",
      "\n",
      "WARNING:root:Failed to click 'Show More' button: Message: \n",
      "Stacktrace:\n",
      "\tGetHandleVerifier [0x00007FF624E51F52+60322]\n",
      "\t(No symbol) [0x00007FF624DCCEC9]\n",
      "\t(No symbol) [0x00007FF624C87EBA]\n",
      "\t(No symbol) [0x00007FF624CD7676]\n",
      "\t(No symbol) [0x00007FF624CD773C]\n",
      "\t(No symbol) [0x00007FF624D1E967]\n",
      "\t(No symbol) [0x00007FF624CFC25F]\n",
      "\t(No symbol) [0x00007FF624D1BC80]\n",
      "\t(No symbol) [0x00007FF624CFBFC3]\n",
      "\t(No symbol) [0x00007FF624CC9617]\n",
      "\t(No symbol) [0x00007FF624CCA211]\n",
      "\tGetHandleVerifier [0x00007FF62516949D+3301613]\n",
      "\tGetHandleVerifier [0x00007FF6251B36C3+3605267]\n",
      "\tGetHandleVerifier [0x00007FF6251A9440+3563664]\n",
      "\tGetHandleVerifier [0x00007FF624F04326+790390]\n",
      "\t(No symbol) [0x00007FF624DD750F]\n",
      "\t(No symbol) [0x00007FF624DD3404]\n",
      "\t(No symbol) [0x00007FF624DD3592]\n",
      "\t(No symbol) [0x00007FF624DC2F9F]\n",
      "\tBaseThreadInitThunk [0x00007FFE79517344+20]\n",
      "\tRtlUserThreadStart [0x00007FFE7A8C26B1+33]\n",
      "\n",
      "WARNING:root:Failed to click 'Show More' button: Message: \n",
      "Stacktrace:\n",
      "\tGetHandleVerifier [0x00007FF624E51F52+60322]\n",
      "\t(No symbol) [0x00007FF624DCCEC9]\n",
      "\t(No symbol) [0x00007FF624C87EBA]\n",
      "\t(No symbol) [0x00007FF624CD7676]\n",
      "\t(No symbol) [0x00007FF624CD773C]\n",
      "\t(No symbol) [0x00007FF624D1E967]\n",
      "\t(No symbol) [0x00007FF624CFC25F]\n",
      "\t(No symbol) [0x00007FF624D1BC80]\n",
      "\t(No symbol) [0x00007FF624CFBFC3]\n",
      "\t(No symbol) [0x00007FF624CC9617]\n",
      "\t(No symbol) [0x00007FF624CCA211]\n",
      "\tGetHandleVerifier [0x00007FF62516949D+3301613]\n",
      "\tGetHandleVerifier [0x00007FF6251B36C3+3605267]\n",
      "\tGetHandleVerifier [0x00007FF6251A9440+3563664]\n",
      "\tGetHandleVerifier [0x00007FF624F04326+790390]\n",
      "\t(No symbol) [0x00007FF624DD750F]\n",
      "\t(No symbol) [0x00007FF624DD3404]\n",
      "\t(No symbol) [0x00007FF624DD3592]\n",
      "\t(No symbol) [0x00007FF624DC2F9F]\n",
      "\tBaseThreadInitThunk [0x00007FFE79517344+20]\n",
      "\tRtlUserThreadStart [0x00007FFE7A8C26B1+33]\n",
      "\n",
      "WARNING:root:Failed to click 'Show More' button: Message: \n",
      "Stacktrace:\n",
      "\tGetHandleVerifier [0x00007FF624E51F52+60322]\n",
      "\t(No symbol) [0x00007FF624DCCEC9]\n",
      "\t(No symbol) [0x00007FF624C87EBA]\n",
      "\t(No symbol) [0x00007FF624CD7676]\n",
      "\t(No symbol) [0x00007FF624CD773C]\n",
      "\t(No symbol) [0x00007FF624D1E967]\n",
      "\t(No symbol) [0x00007FF624CFC25F]\n",
      "\t(No symbol) [0x00007FF624D1BC80]\n",
      "\t(No symbol) [0x00007FF624CFBFC3]\n",
      "\t(No symbol) [0x00007FF624CC9617]\n",
      "\t(No symbol) [0x00007FF624CCA211]\n",
      "\tGetHandleVerifier [0x00007FF62516949D+3301613]\n",
      "\tGetHandleVerifier [0x00007FF6251B36C3+3605267]\n",
      "\tGetHandleVerifier [0x00007FF6251A9440+3563664]\n",
      "\tGetHandleVerifier [0x00007FF624F04326+790390]\n",
      "\t(No symbol) [0x00007FF624DD750F]\n",
      "\t(No symbol) [0x00007FF624DD3404]\n",
      "\t(No symbol) [0x00007FF624DD3592]\n",
      "\t(No symbol) [0x00007FF624DC2F9F]\n",
      "\tBaseThreadInitThunk [0x00007FFE79517344+20]\n",
      "\tRtlUserThreadStart [0x00007FFE7A8C26B1+33]\n",
      "\n"
     ]
    },
    {
     "name": "stderr",
     "output_type": "stream",
     "text": [
      "WARNING:root:Failed to click 'Show More' button: Message: \n",
      "Stacktrace:\n",
      "\tGetHandleVerifier [0x00007FF624E51F52+60322]\n",
      "\t(No symbol) [0x00007FF624DCCEC9]\n",
      "\t(No symbol) [0x00007FF624C87EBA]\n",
      "\t(No symbol) [0x00007FF624CD7676]\n",
      "\t(No symbol) [0x00007FF624CD773C]\n",
      "\t(No symbol) [0x00007FF624D1E967]\n",
      "\t(No symbol) [0x00007FF624CFC25F]\n",
      "\t(No symbol) [0x00007FF624D1BC80]\n",
      "\t(No symbol) [0x00007FF624CFBFC3]\n",
      "\t(No symbol) [0x00007FF624CC9617]\n",
      "\t(No symbol) [0x00007FF624CCA211]\n",
      "\tGetHandleVerifier [0x00007FF62516949D+3301613]\n",
      "\tGetHandleVerifier [0x00007FF6251B36C3+3605267]\n",
      "\tGetHandleVerifier [0x00007FF6251A9440+3563664]\n",
      "\tGetHandleVerifier [0x00007FF624F04326+790390]\n",
      "\t(No symbol) [0x00007FF624DD750F]\n",
      "\t(No symbol) [0x00007FF624DD3404]\n",
      "\t(No symbol) [0x00007FF624DD3592]\n",
      "\t(No symbol) [0x00007FF624DC2F9F]\n",
      "\tBaseThreadInitThunk [0x00007FFE79517344+20]\n",
      "\tRtlUserThreadStart [0x00007FFE7A8C26B1+33]\n",
      "\n",
      "WARNING:root:Failed to click 'Show More' button: Message: element click intercepted: Element <span aria-hidden=\"true\">...</span> is not clickable at point (874, 391). Other element would receive the click: <button class=\"show-more-button big-margin\" data-testid=\"show-more-button\">...</button>\n",
      "  (Session info: chrome=125.0.6422.77)\n",
      "Stacktrace:\n",
      "\tGetHandleVerifier [0x00007FF624E51F52+60322]\n",
      "\t(No symbol) [0x00007FF624DCCEC9]\n",
      "\t(No symbol) [0x00007FF624C87EBA]\n",
      "\t(No symbol) [0x00007FF624CDF32E]\n",
      "\t(No symbol) [0x00007FF624CDCCF2]\n",
      "\t(No symbol) [0x00007FF624CDA18B]\n",
      "\t(No symbol) [0x00007FF624CD9356]\n",
      "\t(No symbol) [0x00007FF624CCB491]\n",
      "\t(No symbol) [0x00007FF624CFC21A]\n",
      "\t(No symbol) [0x00007FF624CCADB6]\n",
      "\t(No symbol) [0x00007FF624CFC430]\n",
      "\t(No symbol) [0x00007FF624D1BC80]\n",
      "\t(No symbol) [0x00007FF624CFBFC3]\n",
      "\t(No symbol) [0x00007FF624CC9617]\n",
      "\t(No symbol) [0x00007FF624CCA211]\n",
      "\tGetHandleVerifier [0x00007FF62516949D+3301613]\n",
      "\tGetHandleVerifier [0x00007FF6251B36C3+3605267]\n",
      "\tGetHandleVerifier [0x00007FF6251A9440+3563664]\n",
      "\tGetHandleVerifier [0x00007FF624F04326+790390]\n",
      "\t(No symbol) [0x00007FF624DD750F]\n",
      "\t(No symbol) [0x00007FF624DD3404]\n",
      "\t(No symbol) [0x00007FF624DD3592]\n",
      "\t(No symbol) [0x00007FF624DC2F9F]\n",
      "\tBaseThreadInitThunk [0x00007FFE79517344+20]\n",
      "\tRtlUserThreadStart [0x00007FFE7A8C26B1+33]\n",
      "\n",
      "WARNING:root:Failed to click 'Show More' button: Message: element click intercepted: Element <span aria-hidden=\"true\">...</span> is not clickable at point (874, 339). Other element would receive the click: <a class=\"u-clickable-card__link\" href=\"/news/2024/1/27/أوغندا-تتبرأ-رسميا-من-قاضية-دعمت\">...</a>\n",
      "  (Session info: chrome=125.0.6422.77)\n",
      "Stacktrace:\n",
      "\tGetHandleVerifier [0x00007FF624E51F52+60322]\n",
      "\t(No symbol) [0x00007FF624DCCEC9]\n",
      "\t(No symbol) [0x00007FF624C87EBA]\n",
      "\t(No symbol) [0x00007FF624CDF32E]\n",
      "\t(No symbol) [0x00007FF624CDCCF2]\n",
      "\t(No symbol) [0x00007FF624CDA18B]\n",
      "\t(No symbol) [0x00007FF624CD9356]\n",
      "\t(No symbol) [0x00007FF624CCB491]\n",
      "\t(No symbol) [0x00007FF624CFC21A]\n",
      "\t(No symbol) [0x00007FF624CCADB6]\n",
      "\t(No symbol) [0x00007FF624CFC430]\n",
      "\t(No symbol) [0x00007FF624D1BC80]\n",
      "\t(No symbol) [0x00007FF624CFBFC3]\n",
      "\t(No symbol) [0x00007FF624CC9617]\n",
      "\t(No symbol) [0x00007FF624CCA211]\n",
      "\tGetHandleVerifier [0x00007FF62516949D+3301613]\n",
      "\tGetHandleVerifier [0x00007FF6251B36C3+3605267]\n",
      "\tGetHandleVerifier [0x00007FF6251A9440+3563664]\n",
      "\tGetHandleVerifier [0x00007FF624F04326+790390]\n",
      "\t(No symbol) [0x00007FF624DD750F]\n",
      "\t(No symbol) [0x00007FF624DD3404]\n",
      "\t(No symbol) [0x00007FF624DD3592]\n",
      "\t(No symbol) [0x00007FF624DC2F9F]\n",
      "\tBaseThreadInitThunk [0x00007FFE79517344+20]\n",
      "\tRtlUserThreadStart [0x00007FFE7A8C26B1+33]\n",
      "\n",
      "WARNING:root:Failed to click 'Show More' button: Message: \n",
      "Stacktrace:\n",
      "\tGetHandleVerifier [0x00007FF624E51F52+60322]\n",
      "\t(No symbol) [0x00007FF624DCCEC9]\n",
      "\t(No symbol) [0x00007FF624C87EBA]\n",
      "\t(No symbol) [0x00007FF624CD7676]\n",
      "\t(No symbol) [0x00007FF624CD773C]\n",
      "\t(No symbol) [0x00007FF624D1E967]\n",
      "\t(No symbol) [0x00007FF624CFC25F]\n",
      "\t(No symbol) [0x00007FF624D1BC80]\n",
      "\t(No symbol) [0x00007FF624CFBFC3]\n",
      "\t(No symbol) [0x00007FF624CC9617]\n",
      "\t(No symbol) [0x00007FF624CCA211]\n",
      "\tGetHandleVerifier [0x00007FF62516949D+3301613]\n",
      "\tGetHandleVerifier [0x00007FF6251B36C3+3605267]\n",
      "\tGetHandleVerifier [0x00007FF6251A9440+3563664]\n",
      "\tGetHandleVerifier [0x00007FF624F04326+790390]\n",
      "\t(No symbol) [0x00007FF624DD750F]\n",
      "\t(No symbol) [0x00007FF624DD3404]\n",
      "\t(No symbol) [0x00007FF624DD3592]\n",
      "\t(No symbol) [0x00007FF624DC2F9F]\n",
      "\tBaseThreadInitThunk [0x00007FFE79517344+20]\n",
      "\tRtlUserThreadStart [0x00007FFE7A8C26B1+33]\n",
      "\n",
      "WARNING:root:Failed to click 'Show More' button: Message: \n",
      "Stacktrace:\n",
      "\tGetHandleVerifier [0x00007FF624E51F52+60322]\n",
      "\t(No symbol) [0x00007FF624DCCEC9]\n",
      "\t(No symbol) [0x00007FF624C87EBA]\n",
      "\t(No symbol) [0x00007FF624CD7676]\n",
      "\t(No symbol) [0x00007FF624CD773C]\n",
      "\t(No symbol) [0x00007FF624D1E967]\n",
      "\t(No symbol) [0x00007FF624CFC25F]\n",
      "\t(No symbol) [0x00007FF624D1BC80]\n",
      "\t(No symbol) [0x00007FF624CFBFC3]\n",
      "\t(No symbol) [0x00007FF624CC9617]\n",
      "\t(No symbol) [0x00007FF624CCA211]\n",
      "\tGetHandleVerifier [0x00007FF62516949D+3301613]\n",
      "\tGetHandleVerifier [0x00007FF6251B36C3+3605267]\n",
      "\tGetHandleVerifier [0x00007FF6251A9440+3563664]\n",
      "\tGetHandleVerifier [0x00007FF624F04326+790390]\n",
      "\t(No symbol) [0x00007FF624DD750F]\n",
      "\t(No symbol) [0x00007FF624DD3404]\n",
      "\t(No symbol) [0x00007FF624DD3592]\n",
      "\t(No symbol) [0x00007FF624DC2F9F]\n",
      "\tBaseThreadInitThunk [0x00007FFE79517344+20]\n",
      "\tRtlUserThreadStart [0x00007FFE7A8C26B1+33]\n",
      "\n",
      "WARNING:root:Failed to click 'Show More' button: Message: \n",
      "Stacktrace:\n",
      "\tGetHandleVerifier [0x00007FF624E51F52+60322]\n",
      "\t(No symbol) [0x00007FF624DCCEC9]\n",
      "\t(No symbol) [0x00007FF624C87EBA]\n",
      "\t(No symbol) [0x00007FF624CD7676]\n",
      "\t(No symbol) [0x00007FF624CD773C]\n",
      "\t(No symbol) [0x00007FF624D1E967]\n",
      "\t(No symbol) [0x00007FF624CFC25F]\n",
      "\t(No symbol) [0x00007FF624D1BC80]\n",
      "\t(No symbol) [0x00007FF624CFBFC3]\n",
      "\t(No symbol) [0x00007FF624CC9617]\n",
      "\t(No symbol) [0x00007FF624CCA211]\n",
      "\tGetHandleVerifier [0x00007FF62516949D+3301613]\n",
      "\tGetHandleVerifier [0x00007FF6251B36C3+3605267]\n",
      "\tGetHandleVerifier [0x00007FF6251A9440+3563664]\n",
      "\tGetHandleVerifier [0x00007FF624F04326+790390]\n",
      "\t(No symbol) [0x00007FF624DD750F]\n",
      "\t(No symbol) [0x00007FF624DD3404]\n",
      "\t(No symbol) [0x00007FF624DD3592]\n",
      "\t(No symbol) [0x00007FF624DC2F9F]\n",
      "\tBaseThreadInitThunk [0x00007FFE79517344+20]\n",
      "\tRtlUserThreadStart [0x00007FFE7A8C26B1+33]\n",
      "\n",
      "WARNING:root:Failed to click 'Show More' button: Message: \n",
      "Stacktrace:\n",
      "\tGetHandleVerifier [0x00007FF624E51F52+60322]\n",
      "\t(No symbol) [0x00007FF624DCCEC9]\n",
      "\t(No symbol) [0x00007FF624C87EBA]\n",
      "\t(No symbol) [0x00007FF624CD7676]\n",
      "\t(No symbol) [0x00007FF624CD773C]\n",
      "\t(No symbol) [0x00007FF624D1E967]\n",
      "\t(No symbol) [0x00007FF624CFC25F]\n",
      "\t(No symbol) [0x00007FF624D1BC80]\n",
      "\t(No symbol) [0x00007FF624CFBFC3]\n",
      "\t(No symbol) [0x00007FF624CC9617]\n",
      "\t(No symbol) [0x00007FF624CCA211]\n",
      "\tGetHandleVerifier [0x00007FF62516949D+3301613]\n",
      "\tGetHandleVerifier [0x00007FF6251B36C3+3605267]\n",
      "\tGetHandleVerifier [0x00007FF6251A9440+3563664]\n",
      "\tGetHandleVerifier [0x00007FF624F04326+790390]\n",
      "\t(No symbol) [0x00007FF624DD750F]\n",
      "\t(No symbol) [0x00007FF624DD3404]\n",
      "\t(No symbol) [0x00007FF624DD3592]\n",
      "\t(No symbol) [0x00007FF624DC2F9F]\n",
      "\tBaseThreadInitThunk [0x00007FFE79517344+20]\n",
      "\tRtlUserThreadStart [0x00007FFE7A8C26B1+33]\n",
      "\n",
      "WARNING:root:Failed to click 'Show More' button: Message: element click intercepted: Element <span aria-hidden=\"true\">...</span> is not clickable at point (874, 3). Other element would receive the click: <header class=\"header-menu site-header container__inner\" tabindex=\"-1\" role=\"banner\">...</header>\n",
      "  (Session info: chrome=125.0.6422.77)\n",
      "Stacktrace:\n",
      "\tGetHandleVerifier [0x00007FF624E51F52+60322]\n",
      "\t(No symbol) [0x00007FF624DCCEC9]\n",
      "\t(No symbol) [0x00007FF624C87EBA]\n",
      "\t(No symbol) [0x00007FF624CDF32E]\n",
      "\t(No symbol) [0x00007FF624CDCCF2]\n",
      "\t(No symbol) [0x00007FF624CDA18B]\n",
      "\t(No symbol) [0x00007FF624CD9356]\n",
      "\t(No symbol) [0x00007FF624CCB491]\n",
      "\t(No symbol) [0x00007FF624CFC21A]\n",
      "\t(No symbol) [0x00007FF624CCADB6]\n",
      "\t(No symbol) [0x00007FF624CFC430]\n",
      "\t(No symbol) [0x00007FF624D1BC80]\n",
      "\t(No symbol) [0x00007FF624CFBFC3]\n",
      "\t(No symbol) [0x00007FF624CC9617]\n",
      "\t(No symbol) [0x00007FF624CCA211]\n",
      "\tGetHandleVerifier [0x00007FF62516949D+3301613]\n",
      "\tGetHandleVerifier [0x00007FF6251B36C3+3605267]\n",
      "\tGetHandleVerifier [0x00007FF6251A9440+3563664]\n",
      "\tGetHandleVerifier [0x00007FF624F04326+790390]\n",
      "\t(No symbol) [0x00007FF624DD750F]\n",
      "\t(No symbol) [0x00007FF624DD3404]\n",
      "\t(No symbol) [0x00007FF624DD3592]\n",
      "\t(No symbol) [0x00007FF624DC2F9F]\n",
      "\tBaseThreadInitThunk [0x00007FFE79517344+20]\n",
      "\tRtlUserThreadStart [0x00007FFE7A8C26B1+33]\n",
      "\n"
     ]
    },
    {
     "ename": "KeyboardInterrupt",
     "evalue": "",
     "output_type": "error",
     "traceback": [
      "\u001b[1;31m---------------------------------------------------------------------------\u001b[0m",
      "\u001b[1;31mKeyboardInterrupt\u001b[0m                         Traceback (most recent call last)",
      "Cell \u001b[1;32mIn[7], line 16\u001b[0m\n\u001b[0;32m     14\u001b[0m     retries \u001b[38;5;241m=\u001b[39m \u001b[38;5;241m0\u001b[39m  \u001b[38;5;66;03m# Reset retries after a successful click\u001b[39;00m\n\u001b[0;32m     15\u001b[0m     logging\u001b[38;5;241m.\u001b[39minfo(\u001b[38;5;124mf\u001b[39m\u001b[38;5;124m\"\u001b[39m\u001b[38;5;124m'\u001b[39m\u001b[38;5;124mShow More\u001b[39m\u001b[38;5;124m'\u001b[39m\u001b[38;5;124m button clicked \u001b[39m\u001b[38;5;132;01m{\u001b[39;00mclick_count\u001b[38;5;132;01m}\u001b[39;00m\u001b[38;5;124m times\u001b[39m\u001b[38;5;124m\"\u001b[39m)\n\u001b[1;32m---> 16\u001b[0m     time\u001b[38;5;241m.\u001b[39msleep(\u001b[38;5;241m2\u001b[39m)  \u001b[38;5;66;03m# Adjust the sleep time as needed\u001b[39;00m\n\u001b[0;32m     17\u001b[0m \u001b[38;5;28;01mexcept\u001b[39;00m \u001b[38;5;167;01mException\u001b[39;00m \u001b[38;5;28;01mas\u001b[39;00m e:\n\u001b[0;32m     18\u001b[0m     logging\u001b[38;5;241m.\u001b[39mwarning(\u001b[38;5;124mf\u001b[39m\u001b[38;5;124m\"\u001b[39m\u001b[38;5;124mFailed to click \u001b[39m\u001b[38;5;124m'\u001b[39m\u001b[38;5;124mShow More\u001b[39m\u001b[38;5;124m'\u001b[39m\u001b[38;5;124m button: \u001b[39m\u001b[38;5;132;01m{\u001b[39;00me\u001b[38;5;132;01m}\u001b[39;00m\u001b[38;5;124m\"\u001b[39m)\n",
      "\u001b[1;31mKeyboardInterrupt\u001b[0m: "
     ]
    }
   ],
   "source": [
    "# Click the \"Show More\" button multiple times if needed\n",
    "click_count = 0\n",
    "max_retries = 15\n",
    "retries = 0\n",
    "\n",
    "try:\n",
    "    while True:\n",
    "        try:\n",
    "            show_more_button = WebDriverWait(driver, 10).until(\n",
    "                EC.element_to_be_clickable((By.XPATH, '//button[@class=\"show-more-button big-margin\"]/span[text()=\"اعرض المزيد\"]'))\n",
    "            )\n",
    "            show_more_button.click()\n",
    "            click_count += 1\n",
    "            retries = 0  # Reset retries after a successful click\n",
    "            logging.info(f\"'Show More' button clicked {click_count} times\")\n",
    "            time.sleep(2)  # Adjust the sleep time as needed\n",
    "        except Exception as e:\n",
    "            logging.warning(f\"Failed to click 'Show More' button: {e}\")\n",
    "            retries += 1\n",
    "            if retries >= max_retries:\n",
    "                logging.error(\"Maximum retries reached, stopping.\")\n",
    "                break\n",
    "            time.sleep(2)  # Wait before retrying\n",
    "except Exception as e:\n",
    "    logging.error(f\"An unexpected error occurred: {e}\")"
   ]
  },
  {
   "cell_type": "code",
   "execution_count": null,
   "id": "26c261aa",
   "metadata": {},
   "outputs": [],
   "source": [
    "# Click the \"Show More\" button multiple times if needed\n",
    "click_count = 0\n",
    "max_clicks = 200  # Set the maximum number of clicks\n",
    "max_retries = 3\n",
    "retries = 0\n",
    "\n",
    "try:\n",
    "    while click_count < max_clicks:\n",
    "        try:\n",
    "            show_more_button = WebDriverWait(driver, 10).until(\n",
    "                EC.element_to_be_clickable((By.XPATH, '//button[@class=\"show-more-button big-margin\"]/span[text()=\"اعرض المزيد\"]'))\n",
    "            )\n",
    "            show_more_button.click()\n",
    "            click_count += 1\n",
    "            retries = 0  # Reset retries after a successful click\n",
    "            logging.info(f\"'Show More' button clicked {click_count} times\")\n",
    "            time.sleep(2)  # Adjust the sleep time as needed\n",
    "        except Exception as e:\n",
    "            logging.warning(f\"Failed to click 'Show More' button: {e}\")\n",
    "            retries += 1\n",
    "            if retries >= max_retries:\n",
    "                logging.error(\"Maximum retries reached, stopping.\")\n",
    "                break\n",
    "            time.sleep(2)  # Wait before retrying\n",
    "except Exception as e:\n",
    "    logging.error(f\"An unexpected error occurred: {e}\")"
   ]
  },
  {
   "cell_type": "code",
   "execution_count": 8,
   "id": "15cd9cc2",
   "metadata": {},
   "outputs": [],
   "source": [
    "# Extract the page source and parse it with BeautifulSoup\n",
    "page_source = driver.page_source\n",
    "soup = BeautifulSoup(page_source, 'html.parser')"
   ]
  },
  {
   "cell_type": "code",
   "execution_count": null,
   "id": "37d40151",
   "metadata": {},
   "outputs": [],
   "source": [
    "soup"
   ]
  },
  {
   "cell_type": "code",
   "execution_count": 9,
   "id": "6f17c3ca",
   "metadata": {},
   "outputs": [],
   "source": [
    "#create a container for the neded data\n",
    "containers = soup.find_all(\"article\", {\"class\":\"gc u-clickable-card gc--type-post gc--list gc--with-image\"})"
   ]
  },
  {
   "cell_type": "code",
   "execution_count": 10,
   "id": "17c3d36e",
   "metadata": {},
   "outputs": [
    {
     "data": {
      "text/plain": [
       "5037"
      ]
     },
     "execution_count": 10,
     "metadata": {},
     "output_type": "execute_result"
    }
   ],
   "source": [
    "len(containers)"
   ]
  },
  {
   "cell_type": "code",
   "execution_count": 11,
   "id": "e41cfb5d",
   "metadata": {},
   "outputs": [
    {
     "data": {
      "text/plain": [
       "<article class=\"gc u-clickable-card gc--type-post gc--list gc--with-image\"><div class=\"gc__image-placeholder\"></div><div class=\"gc__content\"><div class=\"gc__header-wrap\"><div class=\"gc__header-meta u-clickable-card__exclude\"></div><h3 class=\"gc__title\"><a class=\"u-clickable-card__link\" href=\"/politics/2024/5/19/طبيب-أمريكي-يرفض-مغادرة-غزة-وترك-فريقه\"><span>طبيب أميركي يرفض مغادرة غزة وترك فريقه وراءه</span></a></h3></div><div class=\"gc__body-wrap\"><div class=\"gc__excerpt\"><p>قال طبيب أميركي رفض الإخلاء من غزة الجمعة إنه بقي مع زملائه الذين لم يتمكنوا من المغادرة، داعيا الرئيس الأميركي إلى المساعدة في ضمان سلامة العاملين الطبيين الذين يعالجون المرضى المتضررين من الحرب.</p></div></div><footer class=\"gc__footer\"><div class=\"gc__meta\"><div class=\"gc__date gc__date--published\"><div class=\"gc__date__date\"><div class=\"date-simple css-1yjq2zp\"><span class=\"screen-reader-text\">Published On 19/5/2024</span><span aria-hidden=\"true\">19/5/2024</span></div></div></div></div></footer></div><div class=\"gc__image-wrap\"><div aria-hidden=\"false\" class=\"article-card__image-wrap article-card__featured-image\" tabindex=\"-1\"><div class=\"responsive-image\"><img alt=\"الدكتور أدم حموي\" class=\"article-card__image gc__image\" loading=\"lazy\" sizes=\"(max-width: 140px) 140px, (max-width: 170px) 170px, (max-width: 270px) 270px, (max-width: 375px) 375px, (max-width: 570px) 570px, (max-width: 770px) 770px, 770px\" src=\"/wp-content/uploads/2024/05/٤-copy-2-1716105499.jpg?resize=770%2C513&amp;quality=80\" srcset=\"/wp-content/uploads/2024/05/٤-copy-2-1716105499.jpg?resize=140%2C93&amp;quality=80 140w, /wp-content/uploads/2024/05/٤-copy-2-1716105499.jpg?resize=170%2C113&amp;quality=80 170w, /wp-content/uploads/2024/05/٤-copy-2-1716105499.jpg?resize=270%2C180&amp;quality=80 270w, /wp-content/uploads/2024/05/٤-copy-2-1716105499.jpg?resize=375%2C250&amp;quality=80 375w, /wp-content/uploads/2024/05/٤-copy-2-1716105499.jpg?resize=570%2C380&amp;quality=80 570w, /wp-content/uploads/2024/05/٤-copy-2-1716105499.jpg?resize=770%2C513&amp;quality=80 770w\"/></div></div></div></article>"
      ]
     },
     "execution_count": 11,
     "metadata": {},
     "output_type": "execute_result"
    }
   ],
   "source": [
    "###############################################################################\n",
    "containers[119]"
   ]
  },
  {
   "cell_type": "code",
   "execution_count": 12,
   "id": "5c5f4d3b",
   "metadata": {},
   "outputs": [
    {
     "data": {
      "text/plain": [
       "'<article class=\"gc u-clickable-card gc--type-post gc--list gc--with-image\">\\n <div class=\"gc__image-placeholder\">\\n </div>\\n <div class=\"gc__content\">\\n  <div class=\"gc__header-wrap\">\\n   <div class=\"gc__header-meta u-clickable-card__exclude\">\\n   </div>\\n   <h3 class=\"gc__title\">\\n    <a class=\"u-clickable-card__link\" href=\"/politics/2024/5/19/طبيب-أمريكي-يرفض-مغادرة-غزة-وترك-فريقه\">\\n     <span>\\n      طبيب أميركي يرفض مغادرة غزة وترك فريقه وراءه\\n     </span>\\n    </a>\\n   </h3>\\n  </div>\\n  <div class=\"gc__body-wrap\">\\n   <div class=\"gc__excerpt\">\\n    <p>\\n     قال طبيب أميركي رفض الإخلاء من غزة الجمعة إنه بقي مع زملائه الذين لم يتمكنوا من المغادرة، داعيا الرئيس الأميركي إلى المساعدة في ضمان سلامة العاملين الطبيين الذين يعالجون المرضى المتضررين من الحرب.\\n    </p>\\n   </div>\\n  </div>\\n  <footer class=\"gc__footer\">\\n   <div class=\"gc__meta\">\\n    <div class=\"gc__date gc__date--published\">\\n     <div class=\"gc__date__date\">\\n      <div class=\"date-simple css-1yjq2zp\">\\n       <span class=\"screen-reader-text\">\\n        Published On 19/5/2024\\n       </span>\\n       <span aria-hidden=\"true\">\\n        19/5/2024\\n       </span>\\n      </div>\\n     </div>\\n    </div>\\n   </div>\\n  </footer>\\n </div>\\n <div class=\"gc__image-wrap\">\\n  <div aria-hidden=\"false\" class=\"article-card__image-wrap article-card__featured-image\" tabindex=\"-1\">\\n   <div class=\"responsive-image\">\\n    <img alt=\"الدكتور أدم حموي\" class=\"article-card__image gc__image\" loading=\"lazy\" sizes=\"(max-width: 140px) 140px, (max-width: 170px) 170px, (max-width: 270px) 270px, (max-width: 375px) 375px, (max-width: 570px) 570px, (max-width: 770px) 770px, 770px\" src=\"/wp-content/uploads/2024/05/٤-copy-2-1716105499.jpg?resize=770%2C513&amp;quality=80\" srcset=\"/wp-content/uploads/2024/05/٤-copy-2-1716105499.jpg?resize=140%2C93&amp;quality=80 140w, /wp-content/uploads/2024/05/٤-copy-2-1716105499.jpg?resize=170%2C113&amp;quality=80 170w, /wp-content/uploads/2024/05/٤-copy-2-1716105499.jpg?resize=270%2C180&amp;quality=80 270w, /wp-content/uploads/2024/05/٤-copy-2-1716105499.jpg?resize=375%2C250&amp;quality=80 375w, /wp-content/uploads/2024/05/٤-copy-2-1716105499.jpg?resize=570%2C380&amp;quality=80 570w, /wp-content/uploads/2024/05/٤-copy-2-1716105499.jpg?resize=770%2C513&amp;quality=80 770w\"/>\\n   </div>\\n  </div>\\n </div>\\n</article>\\n'"
      ]
     },
     "execution_count": 12,
     "metadata": {},
     "output_type": "execute_result"
    }
   ],
   "source": [
    "BeautifulSoup.prettify(containers[119])"
   ]
  },
  {
   "cell_type": "code",
   "execution_count": 13,
   "id": "ee9e3475",
   "metadata": {},
   "outputs": [],
   "source": [
    "new_text=containers[0].find_all(\"p\")"
   ]
  },
  {
   "cell_type": "code",
   "execution_count": 14,
   "id": "ff31a71c",
   "metadata": {},
   "outputs": [
    {
     "data": {
      "text/plain": [
       "'دعا برلمانيون أوروبيون -في رسالة- الكنيست لتعيين رئيس جديد لوفد البرلمان الإسرائيلي للعلاقات مع البرلمان الأوروبي ما لم يعتذر عضو الكنيست الذي يترأس الوفد عن دعوته لنكبة جديدة تطغى على نكبة 48.'"
      ]
     },
     "execution_count": 14,
     "metadata": {},
     "output_type": "execute_result"
    }
   ],
   "source": [
    "new_text[0].text"
   ]
  },
  {
   "cell_type": "code",
   "execution_count": 15,
   "id": "76782d91",
   "metadata": {},
   "outputs": [],
   "source": [
    "new_title = containers[0].find_all(\"h3\")"
   ]
  },
  {
   "cell_type": "code",
   "execution_count": 16,
   "id": "1d22f5e6",
   "metadata": {},
   "outputs": [
    {
     "data": {
      "text/plain": [
       "'برلمانيون أوروبيون يدعون لاستبدال موفد من الكنيست'"
      ]
     },
     "execution_count": 16,
     "metadata": {},
     "output_type": "execute_result"
    }
   ],
   "source": [
    "new_title[0].text"
   ]
  },
  {
   "cell_type": "code",
   "execution_count": 17,
   "id": "03101fd5",
   "metadata": {},
   "outputs": [],
   "source": [
    "new_publication_date = containers[1].find_all(\"span\",{\"aria-hidden\":\"true\"})[0].text"
   ]
  },
  {
   "cell_type": "code",
   "execution_count": 18,
   "id": "39a77a3a",
   "metadata": {},
   "outputs": [
    {
     "data": {
      "text/plain": [
       "'22/5/2024'"
      ]
     },
     "execution_count": 18,
     "metadata": {},
     "output_type": "execute_result"
    }
   ],
   "source": [
    "new_publication_date"
   ]
  },
  {
   "cell_type": "code",
   "execution_count": 20,
   "id": "d239395b",
   "metadata": {},
   "outputs": [
    {
     "data": {
      "text/plain": [
       "28"
      ]
     },
     "execution_count": 20,
     "metadata": {},
     "output_type": "execute_result"
    }
   ],
   "source": [
    "###################################################################\n",
    "f = open(\"Toufan_AL-AQSA_data.tsv\",\"w\" , encoding='utf-8')\n",
    "header = \"title\\ttext\\tpublication_date\\n\"\n",
    "f.write(header)"
   ]
  },
  {
   "cell_type": "code",
   "execution_count": 21,
   "id": "dfdc468d",
   "metadata": {},
   "outputs": [],
   "source": [
    "for container in containers:\n",
    "    new_title1 = container.find_all(\"h3\")\n",
    "    new_text1=container.find_all(\"p\")\n",
    "    new_publication_date1 = container.find_all(\"span\",{\"aria-hidden\":\"true\"})[0].text.strip()\n",
    "    if new_title1 and new_text1 and new_publication_date1:\n",
    "        n_title1 = new_title1[0].text.strip()        \n",
    "        n_text1 = new_text1[0].text.strip()\n",
    "        f.write(n_title1 + \"\\t\" + n_text1 + \"\\t\" + new_publication_date1 + \"\\n\" )\n",
    "    \n",
    "    #print(new1_text)\n",
    "    #print()\n",
    "f.close()"
   ]
  },
  {
   "cell_type": "code",
   "execution_count": null,
   "id": "e9fbbc30",
   "metadata": {},
   "outputs": [],
   "source": [
    "# Close the WebDriver\n",
    "driver.quit()"
   ]
  },
  {
   "cell_type": "code",
   "execution_count": 22,
   "id": "fe2878fb",
   "metadata": {},
   "outputs": [],
   "source": [
    "data=pd.read_csv(\"Toufan_AL-AQSA_data.tsv\", sep=\"\\t\")"
   ]
  },
  {
   "cell_type": "code",
   "execution_count": 23,
   "id": "0117ae3c",
   "metadata": {},
   "outputs": [
    {
     "data": {
      "text/html": [
       "<div>\n",
       "<style scoped>\n",
       "    .dataframe tbody tr th:only-of-type {\n",
       "        vertical-align: middle;\n",
       "    }\n",
       "\n",
       "    .dataframe tbody tr th {\n",
       "        vertical-align: top;\n",
       "    }\n",
       "\n",
       "    .dataframe thead th {\n",
       "        text-align: right;\n",
       "    }\n",
       "</style>\n",
       "<table border=\"1\" class=\"dataframe\">\n",
       "  <thead>\n",
       "    <tr style=\"text-align: right;\">\n",
       "      <th></th>\n",
       "      <th>title</th>\n",
       "      <th>text</th>\n",
       "      <th>publication_date</th>\n",
       "    </tr>\n",
       "  </thead>\n",
       "  <tbody>\n",
       "    <tr>\n",
       "      <th>0</th>\n",
       "      <td>برلمانيون أوروبيون يدعون لاستبدال موفد من الكنيست</td>\n",
       "      <td>دعا برلمانيون أوروبيون -في رسالة- الكنيست لتعي...</td>\n",
       "      <td>22/5/2024</td>\n",
       "    </tr>\n",
       "    <tr>\n",
       "      <th>1</th>\n",
       "      <td>تحذير من فقدان الفلسطينيين منازلهم وأراضيهم بغ...</td>\n",
       "      <td>أفاد مقال في مجلة إسرائيلية بأن الفلسطينيين يخ...</td>\n",
       "      <td>22/5/2024</td>\n",
       "    </tr>\n",
       "    <tr>\n",
       "      <th>2</th>\n",
       "      <td>ما الذي يدفع دولا أوروبية للاعتراف بدولة فلسطي...</td>\n",
       "      <td>قالت مصادر للجزيرة نت إن الاعتراف بالدولة الفل...</td>\n",
       "      <td>22/5/2024</td>\n",
       "    </tr>\n",
       "    <tr>\n",
       "      <th>3</th>\n",
       "      <td>شاهد.. قسامي يقنص 3 عسكريين إسرائيليين شمالي ب...</td>\n",
       "      <td>بثت كتائب القسام -الجناح العسكري لحركة المقاوم...</td>\n",
       "      <td>22/5/2024</td>\n",
       "    </tr>\n",
       "    <tr>\n",
       "      <th>4</th>\n",
       "      <td>شاهد.. المقاومة تكشف خديعة الاحتلال في استخدام...</td>\n",
       "      <td>بثت قناة الجزيرة مشاهد خاصة ترصد استخدام الجيش...</td>\n",
       "      <td>22/5/2024</td>\n",
       "    </tr>\n",
       "    <tr>\n",
       "      <th>...</th>\n",
       "      <td>...</td>\n",
       "      <td>...</td>\n",
       "      <td>...</td>\n",
       "    </tr>\n",
       "    <tr>\n",
       "      <th>5032</th>\n",
       "      <td>عائلات فلسطينية توارثت الشهادة جيلا وراء جيل</td>\n",
       "      <td>تُعدّ السنة الماضية السنة الأكثر دموية على الف...</td>\n",
       "      <td>7/1/2024</td>\n",
       "    </tr>\n",
       "    <tr>\n",
       "      <th>5033</th>\n",
       "      <td>استشهاد 6 فلسطينيين بينهم 4 أشقاء بقصف مسيرة إ...</td>\n",
       "      <td>استشهد 6 شبان فلسطينيين في قصف مسيرة إسرائيلية...</td>\n",
       "      <td>7/1/2024</td>\n",
       "    </tr>\n",
       "    <tr>\n",
       "      <th>5034</th>\n",
       "      <td>عشرات الضحايا بقصف ليلي على غزة ونحو 30 ألفا ح...</td>\n",
       "      <td>تجدد القصف الإسرائيلي -ليل السبت وفجر اليوم ال...</td>\n",
       "      <td>7/1/2024</td>\n",
       "    </tr>\n",
       "    <tr>\n",
       "      <th>5035</th>\n",
       "      <td>أبرز تطورات اليوم الـ92 من العدوان الإسرائيلي ...</td>\n",
       "      <td>في اليوم الـ92 للعدوان الإسرائيلي على غزة، واص...</td>\n",
       "      <td>6/1/2024</td>\n",
       "    </tr>\n",
       "    <tr>\n",
       "      <th>5036</th>\n",
       "      <td>بلينكن باليونان بعد تركيا في جولة بهدف \"عدم تو...</td>\n",
       "      <td>وصل وزير الخارجية الأميركي أنتوني بلينكن اليون...</td>\n",
       "      <td>6/1/2024</td>\n",
       "    </tr>\n",
       "  </tbody>\n",
       "</table>\n",
       "<p>5037 rows × 3 columns</p>\n",
       "</div>"
      ],
      "text/plain": [
       "                                                  title  \\\n",
       "0     برلمانيون أوروبيون يدعون لاستبدال موفد من الكنيست   \n",
       "1     تحذير من فقدان الفلسطينيين منازلهم وأراضيهم بغ...   \n",
       "2     ما الذي يدفع دولا أوروبية للاعتراف بدولة فلسطي...   \n",
       "3     شاهد.. قسامي يقنص 3 عسكريين إسرائيليين شمالي ب...   \n",
       "4     شاهد.. المقاومة تكشف خديعة الاحتلال في استخدام...   \n",
       "...                                                 ...   \n",
       "5032       عائلات فلسطينية توارثت الشهادة جيلا وراء جيل   \n",
       "5033  استشهاد 6 فلسطينيين بينهم 4 أشقاء بقصف مسيرة إ...   \n",
       "5034  عشرات الضحايا بقصف ليلي على غزة ونحو 30 ألفا ح...   \n",
       "5035  أبرز تطورات اليوم الـ92 من العدوان الإسرائيلي ...   \n",
       "5036  بلينكن باليونان بعد تركيا في جولة بهدف \"عدم تو...   \n",
       "\n",
       "                                                   text publication_date  \n",
       "0     دعا برلمانيون أوروبيون -في رسالة- الكنيست لتعي...        22/5/2024  \n",
       "1     أفاد مقال في مجلة إسرائيلية بأن الفلسطينيين يخ...        22/5/2024  \n",
       "2     قالت مصادر للجزيرة نت إن الاعتراف بالدولة الفل...        22/5/2024  \n",
       "3     بثت كتائب القسام -الجناح العسكري لحركة المقاوم...        22/5/2024  \n",
       "4     بثت قناة الجزيرة مشاهد خاصة ترصد استخدام الجيش...        22/5/2024  \n",
       "...                                                 ...              ...  \n",
       "5032  تُعدّ السنة الماضية السنة الأكثر دموية على الف...         7/1/2024  \n",
       "5033  استشهد 6 شبان فلسطينيين في قصف مسيرة إسرائيلية...         7/1/2024  \n",
       "5034  تجدد القصف الإسرائيلي -ليل السبت وفجر اليوم ال...         7/1/2024  \n",
       "5035  في اليوم الـ92 للعدوان الإسرائيلي على غزة، واص...         6/1/2024  \n",
       "5036  وصل وزير الخارجية الأميركي أنتوني بلينكن اليون...         6/1/2024  \n",
       "\n",
       "[5037 rows x 3 columns]"
      ]
     },
     "execution_count": 23,
     "metadata": {},
     "output_type": "execute_result"
    }
   ],
   "source": [
    "data"
   ]
  },
  {
   "cell_type": "code",
   "execution_count": 24,
   "id": "7144fa15",
   "metadata": {},
   "outputs": [
    {
     "data": {
      "text/plain": [
       "'هكذا أدارت المقاومة الحرب النفسية مع الاحتلال في غزة'"
      ]
     },
     "execution_count": 24,
     "metadata": {},
     "output_type": "execute_result"
    }
   ],
   "source": [
    "data[\"title\"][1000]"
   ]
  },
  {
   "cell_type": "code",
   "execution_count": 25,
   "id": "99f4b3a1",
   "metadata": {},
   "outputs": [
    {
     "data": {
      "text/plain": [
       "'تسعى الحرب النفسية إلى تحقيق أهداف عسكرية عبر التأثير على عقول العدو، وغالبا ما يكون ذلك عن طريق التلاعب بالمعلومات لتضليل العدو أو إضعاف معنوياته من خلال وسائل غير مميتة.'"
      ]
     },
     "execution_count": 25,
     "metadata": {},
     "output_type": "execute_result"
    }
   ],
   "source": [
    "data[\"text\"][1000]"
   ]
  },
  {
   "cell_type": "code",
   "execution_count": 26,
   "id": "7c65281d",
   "metadata": {},
   "outputs": [
    {
     "data": {
      "text/plain": [
       "'24/4/2024'"
      ]
     },
     "execution_count": 26,
     "metadata": {},
     "output_type": "execute_result"
    }
   ],
   "source": [
    "data[\"publication_date\"][1000]"
   ]
  },
  {
   "cell_type": "code",
   "execution_count": null,
   "id": "526a4d4b",
   "metadata": {},
   "outputs": [],
   "source": []
  }
 ],
 "metadata": {
  "kernelspec": {
   "display_name": "Python 3 (ipykernel)",
   "language": "python",
   "name": "python3"
  },
  "language_info": {
   "codemirror_mode": {
    "name": "ipython",
    "version": 3
   },
   "file_extension": ".py",
   "mimetype": "text/x-python",
   "name": "python",
   "nbconvert_exporter": "python",
   "pygments_lexer": "ipython3",
   "version": "3.11.5"
  }
 },
 "nbformat": 4,
 "nbformat_minor": 5
}
